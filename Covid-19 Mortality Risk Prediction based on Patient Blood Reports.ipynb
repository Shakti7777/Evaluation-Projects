{
 "cells": [
  {
   "cell_type": "markdown",
   "metadata": {},
   "source": [
    "# Importing required Modules and Libraries"
   ]
  },
  {
   "cell_type": "code",
   "execution_count": 703,
   "metadata": {},
   "outputs": [],
   "source": [
    "import pandas as pd\n",
    "import numpy as np\n",
    "import matplotlib.pyplot as plt\n",
    "import warnings\n",
    "warnings.filterwarnings('ignore')\n",
    "import seaborn as sns\n",
    "%matplotlib inline"
   ]
  },
  {
   "cell_type": "code",
   "execution_count": 704,
   "metadata": {},
   "outputs": [],
   "source": [
    "from sklearn.ensemble import RandomForestClassifier\n",
    "from sklearn.svm import SVC\n",
    "from sklearn.linear_model import LogisticRegression\n",
    "from sklearn.linear_model import SGDClassifier\n",
    "from sklearn.metrics import confusion_matrix, classification_report\n",
    "from sklearn.preprocessing import StandardScaler, LabelEncoder\n",
    "from sklearn.model_selection import train_test_split, GridSearchCV, cross_val_score"
   ]
  },
  {
   "cell_type": "markdown",
   "metadata": {},
   "source": [
    "# Importing Train/Test Covid 19 Dataset"
   ]
  },
  {
   "cell_type": "code",
   "execution_count": 705,
   "metadata": {},
   "outputs": [],
   "source": [
    "#importing the covid 19 training dataset (in xlsx format)\n",
    "#we are storing our dataset in \"df\" variable to make our job easier.\n",
    "df_train1=pd.read_excel(r'C:\\Users\\Sony\\Desktop\\covid-train-cleaned.xlsx')"
   ]
  },
  {
   "cell_type": "code",
   "execution_count": 706,
   "metadata": {},
   "outputs": [],
   "source": [
    "#importing the covid 19 training dataset (in xlsx format)\n",
    "#we are storing our dataset in \"df\" variable to make our job easier.\n",
    "df_test1=pd.read_excel(r'C:\\Users\\Sony\\Desktop\\covid-test.xlsx')"
   ]
  },
  {
   "cell_type": "markdown",
   "metadata": {},
   "source": [
    "\n",
    "checking the first five rows of the dataset in order to get general idea of features and variables.\n",
    "\n",
    "checking the input variables and output variables.\n",
    "\n",
    "the head() function used to view the preview of the data for given number of rows,if no value is given then bydefault it will display first five rows."
   ]
  },
  {
   "cell_type": "markdown",
   "metadata": {},
   "source": [
    "# More Data Exploration (Train/Test Datasets)"
   ]
  },
  {
   "cell_type": "code",
   "execution_count": 707,
   "metadata": {},
   "outputs": [
    {
     "data": {
      "text/html": [
       "<div>\n",
       "<style scoped>\n",
       "    .dataframe tbody tr th:only-of-type {\n",
       "        vertical-align: middle;\n",
       "    }\n",
       "\n",
       "    .dataframe tbody tr th {\n",
       "        vertical-align: top;\n",
       "    }\n",
       "\n",
       "    .dataframe thead th {\n",
       "        text-align: right;\n",
       "    }\n",
       "</style>\n",
       "<table border=\"1\" class=\"dataframe\">\n",
       "  <thead>\n",
       "    <tr style=\"text-align: right;\">\n",
       "      <th></th>\n",
       "      <th>PATIENT_ID</th>\n",
       "      <th>RE_DATE</th>\n",
       "      <th>age</th>\n",
       "      <th>gender</th>\n",
       "      <th>outcome</th>\n",
       "      <th>(%)lymphocyte</th>\n",
       "      <th>Lactate dehydrogenase</th>\n",
       "      <th>Hypersensitive c-reactive protein</th>\n",
       "    </tr>\n",
       "  </thead>\n",
       "  <tbody>\n",
       "    <tr>\n",
       "      <th>0</th>\n",
       "      <td>1.0</td>\n",
       "      <td>2020-02-17 08:31:00</td>\n",
       "      <td>73</td>\n",
       "      <td>1</td>\n",
       "      <td>0</td>\n",
       "      <td>NaN</td>\n",
       "      <td>NaN</td>\n",
       "      <td>NaN</td>\n",
       "    </tr>\n",
       "    <tr>\n",
       "      <th>1</th>\n",
       "      <td>2.0</td>\n",
       "      <td>2020-02-17 12:26:00</td>\n",
       "      <td>61</td>\n",
       "      <td>1</td>\n",
       "      <td>0</td>\n",
       "      <td>9.2</td>\n",
       "      <td>NaN</td>\n",
       "      <td>NaN</td>\n",
       "    </tr>\n",
       "    <tr>\n",
       "      <th>2</th>\n",
       "      <td>NaN</td>\n",
       "      <td>2020-02-17 13:59:00</td>\n",
       "      <td>61</td>\n",
       "      <td>1</td>\n",
       "      <td>0</td>\n",
       "      <td>NaN</td>\n",
       "      <td>282.0</td>\n",
       "      <td>NaN</td>\n",
       "    </tr>\n",
       "    <tr>\n",
       "      <th>3</th>\n",
       "      <td>NaN</td>\n",
       "      <td>2020-02-17 15:34:00</td>\n",
       "      <td>61</td>\n",
       "      <td>1</td>\n",
       "      <td>0</td>\n",
       "      <td>NaN</td>\n",
       "      <td>NaN</td>\n",
       "      <td>NaN</td>\n",
       "    </tr>\n",
       "    <tr>\n",
       "      <th>4</th>\n",
       "      <td>3.0</td>\n",
       "      <td>2020-02-06 23:15:00</td>\n",
       "      <td>70</td>\n",
       "      <td>2</td>\n",
       "      <td>0</td>\n",
       "      <td>NaN</td>\n",
       "      <td>NaN</td>\n",
       "      <td>NaN</td>\n",
       "    </tr>\n",
       "  </tbody>\n",
       "</table>\n",
       "</div>"
      ],
      "text/plain": [
       "   PATIENT_ID             RE_DATE  age  gender  outcome  (%)lymphocyte  \\\n",
       "0         1.0 2020-02-17 08:31:00   73       1        0            NaN   \n",
       "1         2.0 2020-02-17 12:26:00   61       1        0            9.2   \n",
       "2         NaN 2020-02-17 13:59:00   61       1        0            NaN   \n",
       "3         NaN 2020-02-17 15:34:00   61       1        0            NaN   \n",
       "4         3.0 2020-02-06 23:15:00   70       2        0            NaN   \n",
       "\n",
       "   Lactate dehydrogenase  Hypersensitive c-reactive protein  \n",
       "0                    NaN                                NaN  \n",
       "1                    NaN                                NaN  \n",
       "2                  282.0                                NaN  \n",
       "3                    NaN                                NaN  \n",
       "4                    NaN                                NaN  "
      ]
     },
     "execution_count": 707,
     "metadata": {},
     "output_type": "execute_result"
    }
   ],
   "source": [
    "#checking first five rows from top\n",
    "df_train1.head()"
   ]
  },
  {
   "cell_type": "code",
   "execution_count": 708,
   "metadata": {},
   "outputs": [
    {
     "data": {
      "text/html": [
       "<div>\n",
       "<style scoped>\n",
       "    .dataframe tbody tr th:only-of-type {\n",
       "        vertical-align: middle;\n",
       "    }\n",
       "\n",
       "    .dataframe tbody tr th {\n",
       "        vertical-align: top;\n",
       "    }\n",
       "\n",
       "    .dataframe thead th {\n",
       "        text-align: right;\n",
       "    }\n",
       "</style>\n",
       "<table border=\"1\" class=\"dataframe\">\n",
       "  <thead>\n",
       "    <tr style=\"text-align: right;\">\n",
       "      <th></th>\n",
       "      <th>PATIENT_ID</th>\n",
       "      <th>RE_DATE</th>\n",
       "      <th>Lactate dehydrogenase</th>\n",
       "      <th>Hypersensitive c-reactive protein</th>\n",
       "      <th>(%)lymphocyte</th>\n",
       "      <th>Admission time</th>\n",
       "      <th>Discharge time</th>\n",
       "      <th>outcome</th>\n",
       "    </tr>\n",
       "  </thead>\n",
       "  <tbody>\n",
       "    <tr>\n",
       "      <th>0</th>\n",
       "      <td>1.0</td>\n",
       "      <td>2020-02-10 11:15:00</td>\n",
       "      <td>NaN</td>\n",
       "      <td>NaN</td>\n",
       "      <td>28.0</td>\n",
       "      <td>2020-02-09 10:47:24</td>\n",
       "      <td>2020-02-21 14:51:12</td>\n",
       "      <td>0</td>\n",
       "    </tr>\n",
       "    <tr>\n",
       "      <th>1</th>\n",
       "      <td>NaN</td>\n",
       "      <td>2020-02-10 12:07:00</td>\n",
       "      <td>183.0</td>\n",
       "      <td>5.1</td>\n",
       "      <td>NaN</td>\n",
       "      <td>2020-02-09 10:47:24</td>\n",
       "      <td>2020-02-21 14:51:12</td>\n",
       "      <td>0</td>\n",
       "    </tr>\n",
       "    <tr>\n",
       "      <th>2</th>\n",
       "      <td>NaN</td>\n",
       "      <td>2020-02-13 09:35:00</td>\n",
       "      <td>NaN</td>\n",
       "      <td>NaN</td>\n",
       "      <td>28.6</td>\n",
       "      <td>2020-02-09 10:47:24</td>\n",
       "      <td>2020-02-21 14:51:12</td>\n",
       "      <td>0</td>\n",
       "    </tr>\n",
       "    <tr>\n",
       "      <th>3</th>\n",
       "      <td>NaN</td>\n",
       "      <td>2020-02-13 10:06:00</td>\n",
       "      <td>194.0</td>\n",
       "      <td>2.7</td>\n",
       "      <td>NaN</td>\n",
       "      <td>2020-02-09 10:47:24</td>\n",
       "      <td>2020-02-21 14:51:12</td>\n",
       "      <td>0</td>\n",
       "    </tr>\n",
       "    <tr>\n",
       "      <th>4</th>\n",
       "      <td>2.0</td>\n",
       "      <td>2020-02-09 06:56:00</td>\n",
       "      <td>NaN</td>\n",
       "      <td>NaN</td>\n",
       "      <td>28.3</td>\n",
       "      <td>2020-02-09 03:39:47</td>\n",
       "      <td>2020-02-21 11:57:40</td>\n",
       "      <td>0</td>\n",
       "    </tr>\n",
       "  </tbody>\n",
       "</table>\n",
       "</div>"
      ],
      "text/plain": [
       "   PATIENT_ID             RE_DATE  Lactate dehydrogenase  \\\n",
       "0         1.0 2020-02-10 11:15:00                    NaN   \n",
       "1         NaN 2020-02-10 12:07:00                  183.0   \n",
       "2         NaN 2020-02-13 09:35:00                    NaN   \n",
       "3         NaN 2020-02-13 10:06:00                  194.0   \n",
       "4         2.0 2020-02-09 06:56:00                    NaN   \n",
       "\n",
       "   Hypersensitive c-reactive protein  (%)lymphocyte      Admission time  \\\n",
       "0                                NaN           28.0 2020-02-09 10:47:24   \n",
       "1                                5.1            NaN 2020-02-09 10:47:24   \n",
       "2                                NaN           28.6 2020-02-09 10:47:24   \n",
       "3                                2.7            NaN 2020-02-09 10:47:24   \n",
       "4                                NaN           28.3 2020-02-09 03:39:47   \n",
       "\n",
       "       Discharge time  outcome  \n",
       "0 2020-02-21 14:51:12        0  \n",
       "1 2020-02-21 14:51:12        0  \n",
       "2 2020-02-21 14:51:12        0  \n",
       "3 2020-02-21 14:51:12        0  \n",
       "4 2020-02-21 11:57:40        0  "
      ]
     },
     "execution_count": 708,
     "metadata": {},
     "output_type": "execute_result"
    }
   ],
   "source": [
    "df_test1.head()"
   ]
  },
  {
   "cell_type": "markdown",
   "metadata": {},
   "source": [
    "\n",
    "Once the importing of the dataset is done,we get the rough idea of the dataset as below-- this dataset contains features necessary to check the outcome of the covid 19 confirmed patients. so here \"outcome\" is the dependent or output variable. it is the time to understand thid dataset Let's start it with checking the number of rows and columns in the given Dataset-->"
   ]
  },
  {
   "cell_type": "code",
   "execution_count": 709,
   "metadata": {},
   "outputs": [
    {
     "data": {
      "text/plain": [
       "((1117, 8), (757, 8))"
      ]
     },
     "execution_count": 709,
     "metadata": {},
     "output_type": "execute_result"
    }
   ],
   "source": [
    "#checking number of rows and columns of train/test datasets\n",
    "df_train1.shape,df_test1.shape"
   ]
  },
  {
   "cell_type": "markdown",
   "metadata": {},
   "source": [
    "Now lets check the name of all the columns this dataset have so that it is easy for us to -- --view the names of columns in easier way and make further analysis on them-->"
   ]
  },
  {
   "cell_type": "code",
   "execution_count": 710,
   "metadata": {},
   "outputs": [
    {
     "data": {
      "text/plain": [
       "Index(['PATIENT_ID', 'RE_DATE', 'age', 'gender', 'outcome', '(%)lymphocyte',\n",
       "       'Lactate dehydrogenase', 'Hypersensitive c-reactive protein'],\n",
       "      dtype='object')"
      ]
     },
     "execution_count": 710,
     "metadata": {},
     "output_type": "execute_result"
    }
   ],
   "source": [
    "#checking names of columns for both datasets\n",
    "df_train1.columns"
   ]
  },
  {
   "cell_type": "code",
   "execution_count": 711,
   "metadata": {},
   "outputs": [
    {
     "data": {
      "text/plain": [
       "Index(['PATIENT_ID', 'RE_DATE', 'Lactate dehydrogenase',\n",
       "       'Hypersensitive c-reactive protein', '(%)lymphocyte', 'Admission time',\n",
       "       'Discharge time', 'outcome'],\n",
       "      dtype='object')"
      ]
     },
     "execution_count": 711,
     "metadata": {},
     "output_type": "execute_result"
    }
   ],
   "source": [
    "df_test1.columns"
   ]
  },
  {
   "cell_type": "markdown",
   "metadata": {},
   "source": [
    "In the above output we can clearly see the names of all columns. now by observing the dataset and column names it is clear that feature \"outcome\" is dependent-- --variable and all other features are independent. For further analysis we have to check the datatypes of values of each column-->"
   ]
  },
  {
   "cell_type": "code",
   "execution_count": 712,
   "metadata": {},
   "outputs": [
    {
     "data": {
      "text/plain": [
       "PATIENT_ID                                  float64\n",
       "RE_DATE                              datetime64[ns]\n",
       "age                                           int64\n",
       "gender                                        int64\n",
       "outcome                                       int64\n",
       "(%)lymphocyte                               float64\n",
       "Lactate dehydrogenase                       float64\n",
       "Hypersensitive c-reactive protein           float64\n",
       "dtype: object"
      ]
     },
     "execution_count": 712,
     "metadata": {},
     "output_type": "execute_result"
    }
   ],
   "source": [
    "#checking the datatypes\n",
    "df_train1.dtypes"
   ]
  },
  {
   "cell_type": "code",
   "execution_count": 713,
   "metadata": {},
   "outputs": [
    {
     "data": {
      "text/plain": [
       "PATIENT_ID                                  float64\n",
       "RE_DATE                              datetime64[ns]\n",
       "Lactate dehydrogenase                       float64\n",
       "Hypersensitive c-reactive protein           float64\n",
       "(%)lymphocyte                               float64\n",
       "Admission time                       datetime64[ns]\n",
       "Discharge time                       datetime64[ns]\n",
       "outcome                                       int64\n",
       "dtype: object"
      ]
     },
     "execution_count": 713,
     "metadata": {},
     "output_type": "execute_result"
    }
   ],
   "source": [
    "df_test1.dtypes"
   ]
  },
  {
   "cell_type": "markdown",
   "metadata": {},
   "source": [
    "# Checking the Missing Values in Datasets"
   ]
  },
  {
   "cell_type": "markdown",
   "metadata": {},
   "source": [
    "from above output,it is clearly visible that all the values of each column are either float type-- or integer type. one thing to be noticed here is that only output variable is in integer type ,all other variables-- --are in float type. Now lets check for sum of the missing values in each column-->"
   ]
  },
  {
   "cell_type": "code",
   "execution_count": 714,
   "metadata": {},
   "outputs": [
    {
     "data": {
      "text/plain": [
       "PATIENT_ID                           756\n",
       "RE_DATE                                1\n",
       "age                                    0\n",
       "gender                                 0\n",
       "outcome                                0\n",
       "(%)lymphocyte                        942\n",
       "Lactate dehydrogenase                957\n",
       "Hypersensitive c-reactive protein    993\n",
       "dtype: int64"
      ]
     },
     "execution_count": 714,
     "metadata": {},
     "output_type": "execute_result"
    }
   ],
   "source": [
    "df_train1.isnull().sum()"
   ]
  },
  {
   "cell_type": "markdown",
   "metadata": {},
   "source": [
    "there are so many missing values showing in above dataset because test of same patient done in different dates.\n",
    "Lets deal with this problem-->"
   ]
  },
  {
   "cell_type": "code",
   "execution_count": 715,
   "metadata": {},
   "outputs": [
    {
     "data": {
      "text/plain": [
       "PATIENT_ID                           647\n",
       "RE_DATE                                0\n",
       "Lactate dehydrogenase                397\n",
       "Hypersensitive c-reactive protein    472\n",
       "(%)lymphocyte                        384\n",
       "Admission time                         0\n",
       "Discharge time                         0\n",
       "outcome                                0\n",
       "dtype: int64"
      ]
     },
     "execution_count": 715,
     "metadata": {},
     "output_type": "execute_result"
    }
   ],
   "source": [
    "df_test1.isnull().sum()"
   ]
  },
  {
   "cell_type": "markdown",
   "metadata": {},
   "source": [
    "# Data Preprocessing"
   ]
  },
  {
   "cell_type": "markdown",
   "metadata": {},
   "source": [
    "Now as we can have taken visiting dates as most recent ones so for further analysis of the dataset we will not be needing this column.\n",
    "Hence dropping the columns \"RE_Date\",'age','gender'"
   ]
  },
  {
   "cell_type": "code",
   "execution_count": 716,
   "metadata": {},
   "outputs": [],
   "source": [
    "#dropping columns 'RE_DATE','age' and 'gender' from training dataset\n",
    "df_train1.drop('RE_DATE',axis=1,inplace=True)\n",
    "df_train1.drop('age',axis=1,inplace=True)\n",
    "df_train1.drop('gender',axis=1,inplace=True)"
   ]
  },
  {
   "cell_type": "code",
   "execution_count": 717,
   "metadata": {},
   "outputs": [],
   "source": [
    "#dropping columns 'RE_DATE','Admission time','Discharge time' from test dataset\n",
    "df_test1.drop('RE_DATE',axis=1,inplace=True)\n",
    "df_test1.drop('Admission time',axis=1,inplace=True)\n",
    "df_test1.drop('Discharge time',axis=1,inplace=True)"
   ]
  },
  {
   "cell_type": "code",
   "execution_count": 718,
   "metadata": {},
   "outputs": [
    {
     "data": {
      "text/html": [
       "<div>\n",
       "<style scoped>\n",
       "    .dataframe tbody tr th:only-of-type {\n",
       "        vertical-align: middle;\n",
       "    }\n",
       "\n",
       "    .dataframe tbody tr th {\n",
       "        vertical-align: top;\n",
       "    }\n",
       "\n",
       "    .dataframe thead th {\n",
       "        text-align: right;\n",
       "    }\n",
       "</style>\n",
       "<table border=\"1\" class=\"dataframe\">\n",
       "  <thead>\n",
       "    <tr style=\"text-align: right;\">\n",
       "      <th></th>\n",
       "      <th>PATIENT_ID</th>\n",
       "      <th>outcome</th>\n",
       "      <th>(%)lymphocyte</th>\n",
       "      <th>Lactate dehydrogenase</th>\n",
       "      <th>Hypersensitive c-reactive protein</th>\n",
       "    </tr>\n",
       "  </thead>\n",
       "  <tbody>\n",
       "    <tr>\n",
       "      <th>0</th>\n",
       "      <td>1.0</td>\n",
       "      <td>0</td>\n",
       "      <td>NaN</td>\n",
       "      <td>NaN</td>\n",
       "      <td>NaN</td>\n",
       "    </tr>\n",
       "    <tr>\n",
       "      <th>1</th>\n",
       "      <td>2.0</td>\n",
       "      <td>0</td>\n",
       "      <td>9.2</td>\n",
       "      <td>NaN</td>\n",
       "      <td>NaN</td>\n",
       "    </tr>\n",
       "    <tr>\n",
       "      <th>2</th>\n",
       "      <td>NaN</td>\n",
       "      <td>0</td>\n",
       "      <td>NaN</td>\n",
       "      <td>282.0</td>\n",
       "      <td>NaN</td>\n",
       "    </tr>\n",
       "    <tr>\n",
       "      <th>3</th>\n",
       "      <td>NaN</td>\n",
       "      <td>0</td>\n",
       "      <td>NaN</td>\n",
       "      <td>NaN</td>\n",
       "      <td>NaN</td>\n",
       "    </tr>\n",
       "    <tr>\n",
       "      <th>4</th>\n",
       "      <td>3.0</td>\n",
       "      <td>0</td>\n",
       "      <td>NaN</td>\n",
       "      <td>NaN</td>\n",
       "      <td>NaN</td>\n",
       "    </tr>\n",
       "  </tbody>\n",
       "</table>\n",
       "</div>"
      ],
      "text/plain": [
       "   PATIENT_ID  outcome  (%)lymphocyte  Lactate dehydrogenase  \\\n",
       "0         1.0        0            NaN                    NaN   \n",
       "1         2.0        0            9.2                    NaN   \n",
       "2         NaN        0            NaN                  282.0   \n",
       "3         NaN        0            NaN                    NaN   \n",
       "4         3.0        0            NaN                    NaN   \n",
       "\n",
       "   Hypersensitive c-reactive protein  \n",
       "0                                NaN  \n",
       "1                                NaN  \n",
       "2                                NaN  \n",
       "3                                NaN  \n",
       "4                                NaN  "
      ]
     },
     "execution_count": 718,
     "metadata": {},
     "output_type": "execute_result"
    }
   ],
   "source": [
    "df_train1.head()"
   ]
  },
  {
   "cell_type": "code",
   "execution_count": 719,
   "metadata": {},
   "outputs": [
    {
     "data": {
      "text/html": [
       "<div>\n",
       "<style scoped>\n",
       "    .dataframe tbody tr th:only-of-type {\n",
       "        vertical-align: middle;\n",
       "    }\n",
       "\n",
       "    .dataframe tbody tr th {\n",
       "        vertical-align: top;\n",
       "    }\n",
       "\n",
       "    .dataframe thead th {\n",
       "        text-align: right;\n",
       "    }\n",
       "</style>\n",
       "<table border=\"1\" class=\"dataframe\">\n",
       "  <thead>\n",
       "    <tr style=\"text-align: right;\">\n",
       "      <th></th>\n",
       "      <th>PATIENT_ID</th>\n",
       "      <th>Lactate dehydrogenase</th>\n",
       "      <th>Hypersensitive c-reactive protein</th>\n",
       "      <th>(%)lymphocyte</th>\n",
       "      <th>outcome</th>\n",
       "    </tr>\n",
       "  </thead>\n",
       "  <tbody>\n",
       "    <tr>\n",
       "      <th>0</th>\n",
       "      <td>1.0</td>\n",
       "      <td>NaN</td>\n",
       "      <td>NaN</td>\n",
       "      <td>28.0</td>\n",
       "      <td>0</td>\n",
       "    </tr>\n",
       "    <tr>\n",
       "      <th>1</th>\n",
       "      <td>NaN</td>\n",
       "      <td>183.0</td>\n",
       "      <td>5.1</td>\n",
       "      <td>NaN</td>\n",
       "      <td>0</td>\n",
       "    </tr>\n",
       "    <tr>\n",
       "      <th>2</th>\n",
       "      <td>NaN</td>\n",
       "      <td>NaN</td>\n",
       "      <td>NaN</td>\n",
       "      <td>28.6</td>\n",
       "      <td>0</td>\n",
       "    </tr>\n",
       "    <tr>\n",
       "      <th>3</th>\n",
       "      <td>NaN</td>\n",
       "      <td>194.0</td>\n",
       "      <td>2.7</td>\n",
       "      <td>NaN</td>\n",
       "      <td>0</td>\n",
       "    </tr>\n",
       "    <tr>\n",
       "      <th>4</th>\n",
       "      <td>2.0</td>\n",
       "      <td>NaN</td>\n",
       "      <td>NaN</td>\n",
       "      <td>28.3</td>\n",
       "      <td>0</td>\n",
       "    </tr>\n",
       "  </tbody>\n",
       "</table>\n",
       "</div>"
      ],
      "text/plain": [
       "   PATIENT_ID  Lactate dehydrogenase  Hypersensitive c-reactive protein  \\\n",
       "0         1.0                    NaN                                NaN   \n",
       "1         NaN                  183.0                                5.1   \n",
       "2         NaN                    NaN                                NaN   \n",
       "3         NaN                  194.0                                2.7   \n",
       "4         2.0                    NaN                                NaN   \n",
       "\n",
       "   (%)lymphocyte  outcome  \n",
       "0           28.0        0  \n",
       "1            NaN        0  \n",
       "2           28.6        0  \n",
       "3            NaN        0  \n",
       "4           28.3        0  "
      ]
     },
     "execution_count": 719,
     "metadata": {},
     "output_type": "execute_result"
    }
   ],
   "source": [
    "df_test1.head()"
   ]
  },
  {
   "cell_type": "markdown",
   "metadata": {},
   "source": [
    "# M1 Model Missing Values Imputation By  '-1'"
   ]
  },
  {
   "cell_type": "markdown",
   "metadata": {},
   "source": [
    "\n",
    "Missing values imputation by -1 for all columns accept 'PATIENT_ID','AGE' and 'Gender'"
   ]
  },
  {
   "cell_type": "code",
   "execution_count": 720,
   "metadata": {},
   "outputs": [
    {
     "data": {
      "text/plain": [
       "Index(['PATIENT_ID', 'outcome', '(%)lymphocyte', 'Lactate dehydrogenase',\n",
       "       'Hypersensitive c-reactive protein'],\n",
       "      dtype='object')"
      ]
     },
     "execution_count": 720,
     "metadata": {},
     "output_type": "execute_result"
    }
   ],
   "source": [
    "df_train1.columns"
   ]
  },
  {
   "cell_type": "code",
   "execution_count": 721,
   "metadata": {},
   "outputs": [
    {
     "name": "stdout",
     "output_type": "stream",
     "text": [
      "Imputation with -1: (%)lymphocyte\n",
      "Imputation with -1: Lactate dehydrogenase\n",
      "Imputation with -1: Hypersensitive c-reactive protein\n",
      "Missing value imputation done.\n"
     ]
    }
   ],
   "source": [
    "\n",
    "#Missing values imputation by -1 for all columns accept 'PATIENT_ID','AGE' and 'Gender'\n",
    "\n",
    "cols = ['(%)lymphocyte',\n",
    "       'Lactate dehydrogenase', 'Hypersensitive c-reactive protein']\n",
    "for col in cols:\n",
    "    print('Imputation with -1: %s' % (col))\n",
    "    df_train1[col].fillna(-1, inplace=True)\n",
    "    \n",
    "    \n",
    "print('Missing value imputation done.')"
   ]
  },
  {
   "cell_type": "code",
   "execution_count": 722,
   "metadata": {},
   "outputs": [
    {
     "name": "stdout",
     "output_type": "stream",
     "text": [
      "Imputation with zero: PATIENT_ID\n",
      "Missing value imputation done.\n"
     ]
    }
   ],
   "source": [
    "#Missing values imputation by 0(zero) for columns 'PATIENT_ID','AGE' and 'Gender'\n",
    "\n",
    "cols = ['PATIENT_ID']\n",
    "for col in cols:\n",
    "    print('Imputation with zero: %s' % (col))\n",
    "    df_train1[col].fillna(0, inplace=True)\n",
    "    \n",
    "    \n",
    "print('Missing value imputation done.')"
   ]
  },
  {
   "cell_type": "code",
   "execution_count": 723,
   "metadata": {},
   "outputs": [
    {
     "data": {
      "text/plain": [
       "Index(['PATIENT_ID', 'Lactate dehydrogenase',\n",
       "       'Hypersensitive c-reactive protein', '(%)lymphocyte', 'outcome'],\n",
       "      dtype='object')"
      ]
     },
     "execution_count": 723,
     "metadata": {},
     "output_type": "execute_result"
    }
   ],
   "source": [
    "df_test1.columns"
   ]
  },
  {
   "cell_type": "code",
   "execution_count": 724,
   "metadata": {},
   "outputs": [
    {
     "name": "stdout",
     "output_type": "stream",
     "text": [
      "Imputation with -1: Lactate dehydrogenase\n",
      "Imputation with -1: Hypersensitive c-reactive protein\n",
      "Imputation with -1: (%)lymphocyte\n",
      "Imputation with -1: outcome\n",
      "Missing value imputation done.\n"
     ]
    }
   ],
   "source": [
    "'''\n",
    "Missing values imputation\n",
    "'''\n",
    "cols = ['Lactate dehydrogenase',\n",
    "       'Hypersensitive c-reactive protein', '(%)lymphocyte', 'outcome']\n",
    "for col in cols:\n",
    "    print('Imputation with -1: %s' % (col))\n",
    "    df_test1[col].fillna(0, inplace=True)\n",
    "    \n",
    "    \n",
    "print('Missing value imputation done.')"
   ]
  },
  {
   "cell_type": "code",
   "execution_count": 725,
   "metadata": {},
   "outputs": [
    {
     "name": "stdout",
     "output_type": "stream",
     "text": [
      "Imputation with zero: PATIENT_ID\n",
      "Missing value imputation done.\n"
     ]
    }
   ],
   "source": [
    "\n",
    "cols = ['PATIENT_ID']\n",
    "for col in cols:\n",
    "    print('Imputation with zero: %s' % (col))\n",
    "    df_test1[col].fillna(0, inplace=True)\n",
    "    \n",
    "    \n",
    "print('Missing value imputation done.')"
   ]
  },
  {
   "cell_type": "markdown",
   "metadata": {},
   "source": [
    "# Checking Dataset after Missing Values Imputation"
   ]
  },
  {
   "cell_type": "code",
   "execution_count": 726,
   "metadata": {},
   "outputs": [
    {
     "data": {
      "text/plain": [
       "PATIENT_ID                           0\n",
       "outcome                              0\n",
       "(%)lymphocyte                        0\n",
       "Lactate dehydrogenase                0\n",
       "Hypersensitive c-reactive protein    0\n",
       "dtype: int64"
      ]
     },
     "execution_count": 726,
     "metadata": {},
     "output_type": "execute_result"
    }
   ],
   "source": [
    "df_train1.isnull().sum()"
   ]
  },
  {
   "cell_type": "code",
   "execution_count": 727,
   "metadata": {},
   "outputs": [
    {
     "data": {
      "text/plain": [
       "PATIENT_ID                           0\n",
       "Lactate dehydrogenase                0\n",
       "Hypersensitive c-reactive protein    0\n",
       "(%)lymphocyte                        0\n",
       "outcome                              0\n",
       "dtype: int64"
      ]
     },
     "execution_count": 727,
     "metadata": {},
     "output_type": "execute_result"
    }
   ],
   "source": [
    "df_test1.isnull().sum()"
   ]
  },
  {
   "cell_type": "markdown",
   "metadata": {},
   "source": [
    "# \"Data has been cleaned for M1 Model building\""
   ]
  },
  {
   "cell_type": "markdown",
   "metadata": {},
   "source": [
    "# Correlation Analysis "
   ]
  },
  {
   "cell_type": "code",
   "execution_count": 728,
   "metadata": {},
   "outputs": [
    {
     "data": {
      "text/html": [
       "<div>\n",
       "<style scoped>\n",
       "    .dataframe tbody tr th:only-of-type {\n",
       "        vertical-align: middle;\n",
       "    }\n",
       "\n",
       "    .dataframe tbody tr th {\n",
       "        vertical-align: top;\n",
       "    }\n",
       "\n",
       "    .dataframe thead th {\n",
       "        text-align: right;\n",
       "    }\n",
       "</style>\n",
       "<table border=\"1\" class=\"dataframe\">\n",
       "  <thead>\n",
       "    <tr style=\"text-align: right;\">\n",
       "      <th></th>\n",
       "      <th>PATIENT_ID</th>\n",
       "      <th>outcome</th>\n",
       "      <th>(%)lymphocyte</th>\n",
       "      <th>Lactate dehydrogenase</th>\n",
       "      <th>Hypersensitive c-reactive protein</th>\n",
       "    </tr>\n",
       "  </thead>\n",
       "  <tbody>\n",
       "    <tr>\n",
       "      <th>PATIENT_ID</th>\n",
       "      <td>1.000000</td>\n",
       "      <td>0.118176</td>\n",
       "      <td>0.124500</td>\n",
       "      <td>-0.077690</td>\n",
       "      <td>-0.071513</td>\n",
       "    </tr>\n",
       "    <tr>\n",
       "      <th>outcome</th>\n",
       "      <td>0.118176</td>\n",
       "      <td>1.000000</td>\n",
       "      <td>-0.180752</td>\n",
       "      <td>0.169124</td>\n",
       "      <td>0.167602</td>\n",
       "    </tr>\n",
       "    <tr>\n",
       "      <th>(%)lymphocyte</th>\n",
       "      <td>0.124500</td>\n",
       "      <td>-0.180752</td>\n",
       "      <td>1.000000</td>\n",
       "      <td>-0.083207</td>\n",
       "      <td>-0.058239</td>\n",
       "    </tr>\n",
       "    <tr>\n",
       "      <th>Lactate dehydrogenase</th>\n",
       "      <td>-0.077690</td>\n",
       "      <td>0.169124</td>\n",
       "      <td>-0.083207</td>\n",
       "      <td>1.000000</td>\n",
       "      <td>0.587101</td>\n",
       "    </tr>\n",
       "    <tr>\n",
       "      <th>Hypersensitive c-reactive protein</th>\n",
       "      <td>-0.071513</td>\n",
       "      <td>0.167602</td>\n",
       "      <td>-0.058239</td>\n",
       "      <td>0.587101</td>\n",
       "      <td>1.000000</td>\n",
       "    </tr>\n",
       "  </tbody>\n",
       "</table>\n",
       "</div>"
      ],
      "text/plain": [
       "                                   PATIENT_ID   outcome  (%)lymphocyte  \\\n",
       "PATIENT_ID                           1.000000  0.118176       0.124500   \n",
       "outcome                              0.118176  1.000000      -0.180752   \n",
       "(%)lymphocyte                        0.124500 -0.180752       1.000000   \n",
       "Lactate dehydrogenase               -0.077690  0.169124      -0.083207   \n",
       "Hypersensitive c-reactive protein   -0.071513  0.167602      -0.058239   \n",
       "\n",
       "                                   Lactate dehydrogenase  \\\n",
       "PATIENT_ID                                     -0.077690   \n",
       "outcome                                         0.169124   \n",
       "(%)lymphocyte                                  -0.083207   \n",
       "Lactate dehydrogenase                           1.000000   \n",
       "Hypersensitive c-reactive protein               0.587101   \n",
       "\n",
       "                                   Hypersensitive c-reactive protein  \n",
       "PATIENT_ID                                                 -0.071513  \n",
       "outcome                                                     0.167602  \n",
       "(%)lymphocyte                                              -0.058239  \n",
       "Lactate dehydrogenase                                       0.587101  \n",
       "Hypersensitive c-reactive protein                           1.000000  "
      ]
     },
     "metadata": {},
     "output_type": "display_data"
    }
   ],
   "source": [
    "display(df_train1.corr())"
   ]
  },
  {
   "cell_type": "code",
   "execution_count": 729,
   "metadata": {},
   "outputs": [
    {
     "data": {
      "text/plain": [
       "<matplotlib.axes._subplots.AxesSubplot at 0x2292e949208>"
      ]
     },
     "execution_count": 729,
     "metadata": {},
     "output_type": "execute_result"
    },
    {
     "data": {
      "image/png": "[encoded data removed]",
      "text/plain": [
       "<Figure size 864x360 with 2 Axes>"
      ]
     },
     "metadata": {
      "needs_background": "light"
     },
     "output_type": "display_data"
    }
   ],
   "source": [
    "correlation = df_train1.corr()\n",
    "plt.figure(figsize=(12, 5))\n",
    "sns.heatmap(correlation, annot=True, linewidths=0, vmin=-1, cmap=\"RdBu_r\")"
   ]
  },
  {
   "cell_type": "markdown",
   "metadata": {},
   "source": [
    "# Univariate and Bivariate Analysis"
   ]
  },
  {
   "cell_type": "code",
   "execution_count": 730,
   "metadata": {},
   "outputs": [
    {
     "data": {
      "text/plain": [
       "0    430\n",
       "1    687\n",
       "Name: outcome, dtype: int64"
      ]
     },
     "execution_count": 730,
     "metadata": {},
     "output_type": "execute_result"
    }
   ],
   "source": [
    "#lets check for 'outcome' variable.\n",
    "df_train1.outcome.value_counts().sort_index()"
   ]
  },
  {
   "cell_type": "code",
   "execution_count": 731,
   "metadata": {},
   "outputs": [
    {
     "data": {
      "text/plain": [
       "<matplotlib.axes._subplots.AxesSubplot at 0x2292e17e3c8>"
      ]
     },
     "execution_count": 731,
     "metadata": {},
     "output_type": "execute_result"
    },
    {
     "data": {
      "image/png": "[encoded data removed]",
      "text/plain": [
       "<Figure size 432x288 with 1 Axes>"
      ]
     },
     "metadata": {
      "needs_background": "light"
     },
     "output_type": "display_data"
    }
   ],
   "source": [
    "#plotting the graph for visualizing better the distribution of \"outcome\" variable.\n",
    "sns.countplot(x='outcome', data=df_train1)"
   ]
  },
  {
   "cell_type": "code",
   "execution_count": 732,
   "metadata": {},
   "outputs": [
    {
     "data": {
      "text/plain": [
       "<matplotlib.axes._subplots.AxesSubplot at 0x2292e1a7dc8>"
      ]
     },
     "execution_count": 732,
     "metadata": {},
     "output_type": "execute_result"
    },
    {
     "data": {
      "image/png": "[encoded data removed]",
      "text/plain": [
       "<Figure size 720x432 with 1 Axes>"
      ]
     },
     "metadata": {
      "needs_background": "light"
     },
     "output_type": "display_data"
    }
   ],
   "source": [
    "#plotting graph between 'outcome' and 'lactate dehydrogenase' variables\n",
    "fig = plt.figure(figsize = (10,6))\n",
    "sns.violinplot(x = 'outcome', y = 'Lactate dehydrogenase', data = df_train1)"
   ]
  },
  {
   "cell_type": "markdown",
   "metadata": {},
   "source": [
    "# Separating target and input variables"
   ]
  },
  {
   "cell_type": "code",
   "execution_count": 733,
   "metadata": {},
   "outputs": [],
   "source": [
    "'''Learning Features and Predicting Features'''\n",
    "x_train = df_train1.drop(['PATIENT_ID','outcome'], axis = 1)\n",
    "y_train = df_train1['outcome']"
   ]
  },
  {
   "cell_type": "code",
   "execution_count": 734,
   "metadata": {},
   "outputs": [
    {
     "data": {
      "text/html": [
       "<div>\n",
       "<style scoped>\n",
       "    .dataframe tbody tr th:only-of-type {\n",
       "        vertical-align: middle;\n",
       "    }\n",
       "\n",
       "    .dataframe tbody tr th {\n",
       "        vertical-align: top;\n",
       "    }\n",
       "\n",
       "    .dataframe thead th {\n",
       "        text-align: right;\n",
       "    }\n",
       "</style>\n",
       "<table border=\"1\" class=\"dataframe\">\n",
       "  <thead>\n",
       "    <tr style=\"text-align: right;\">\n",
       "      <th></th>\n",
       "      <th>(%)lymphocyte</th>\n",
       "      <th>Lactate dehydrogenase</th>\n",
       "      <th>Hypersensitive c-reactive protein</th>\n",
       "    </tr>\n",
       "  </thead>\n",
       "  <tbody>\n",
       "    <tr>\n",
       "      <th>0</th>\n",
       "      <td>-1.0</td>\n",
       "      <td>-1.0</td>\n",
       "      <td>-1.0</td>\n",
       "    </tr>\n",
       "    <tr>\n",
       "      <th>1</th>\n",
       "      <td>9.2</td>\n",
       "      <td>-1.0</td>\n",
       "      <td>-1.0</td>\n",
       "    </tr>\n",
       "    <tr>\n",
       "      <th>2</th>\n",
       "      <td>-1.0</td>\n",
       "      <td>282.0</td>\n",
       "      <td>-1.0</td>\n",
       "    </tr>\n",
       "    <tr>\n",
       "      <th>3</th>\n",
       "      <td>-1.0</td>\n",
       "      <td>-1.0</td>\n",
       "      <td>-1.0</td>\n",
       "    </tr>\n",
       "    <tr>\n",
       "      <th>4</th>\n",
       "      <td>-1.0</td>\n",
       "      <td>-1.0</td>\n",
       "      <td>-1.0</td>\n",
       "    </tr>\n",
       "  </tbody>\n",
       "</table>\n",
       "</div>"
      ],
      "text/plain": [
       "   (%)lymphocyte  Lactate dehydrogenase  Hypersensitive c-reactive protein\n",
       "0           -1.0                   -1.0                               -1.0\n",
       "1            9.2                   -1.0                               -1.0\n",
       "2           -1.0                  282.0                               -1.0\n",
       "3           -1.0                   -1.0                               -1.0\n",
       "4           -1.0                   -1.0                               -1.0"
      ]
     },
     "execution_count": 734,
     "metadata": {},
     "output_type": "execute_result"
    }
   ],
   "source": [
    "x_train.head()"
   ]
  },
  {
   "cell_type": "code",
   "execution_count": 735,
   "metadata": {},
   "outputs": [
    {
     "data": {
      "text/plain": [
       "0    0\n",
       "1    0\n",
       "2    0\n",
       "3    0\n",
       "4    0\n",
       "Name: outcome, dtype: int64"
      ]
     },
     "execution_count": 735,
     "metadata": {},
     "output_type": "execute_result"
    }
   ],
   "source": [
    "y_train.head()"
   ]
  },
  {
   "cell_type": "code",
   "execution_count": 736,
   "metadata": {},
   "outputs": [],
   "source": [
    "'''Learning Features and Predicting Features'''\n",
    "x_test = df_test1.drop(['PATIENT_ID','outcome'], axis = 1)\n",
    "y_test = df_test1['outcome']"
   ]
  },
  {
   "cell_type": "code",
   "execution_count": 737,
   "metadata": {},
   "outputs": [
    {
     "data": {
      "text/plain": [
       "Index(['(%)lymphocyte', 'Lactate dehydrogenase',\n",
       "       'Hypersensitive c-reactive protein'],\n",
       "      dtype='object')"
      ]
     },
     "execution_count": 737,
     "metadata": {},
     "output_type": "execute_result"
    }
   ],
   "source": [
    "x_train.columns"
   ]
  },
  {
   "cell_type": "code",
   "execution_count": 738,
   "metadata": {},
   "outputs": [
    {
     "data": {
      "text/plain": [
       "Index(['Lactate dehydrogenase', 'Hypersensitive c-reactive protein',\n",
       "       '(%)lymphocyte'],\n",
       "      dtype='object')"
      ]
     },
     "execution_count": 738,
     "metadata": {},
     "output_type": "execute_result"
    }
   ],
   "source": [
    "x_test.columns"
   ]
  },
  {
   "cell_type": "code",
   "execution_count": 739,
   "metadata": {},
   "outputs": [
    {
     "data": {
      "text/plain": [
       "((1117, 3), (1117,), (757, 3), (757,))"
      ]
     },
     "execution_count": 739,
     "metadata": {},
     "output_type": "execute_result"
    }
   ],
   "source": [
    "x_train.shape,y_train.shape,x_test.shape,y_test.shape"
   ]
  },
  {
   "cell_type": "markdown",
   "metadata": {},
   "source": [
    "# Applying Standardiztion Technique to get optimized results through Standard Scaler"
   ]
  },
  {
   "cell_type": "code",
   "execution_count": 740,
   "metadata": {},
   "outputs": [],
   "source": [
    "sc = StandardScaler()\n",
    "x_train=sc.fit_transform(x_train)\n",
    "x_test=sc.fit_transform(x_test)"
   ]
  },
  {
   "cell_type": "markdown",
   "metadata": {},
   "source": [
    "# M1 Model Building"
   ]
  },
  {
   "cell_type": "markdown",
   "metadata": {},
   "source": [
    "# Model Selection/Building for M1"
   ]
  },
  {
   "cell_type": "code",
   "execution_count": 741,
   "metadata": {},
   "outputs": [],
   "source": [
    "from sklearn.linear_model import LogisticRegression\n",
    "from sklearn.naive_bayes import GaussianNB\n",
    "from sklearn.tree import DecisionTreeClassifier\n",
    "from sklearn.svm import SVC\n",
    "from sklearn.metrics import accuracy_score"
   ]
  },
  {
   "cell_type": "code",
   "execution_count": 742,
   "metadata": {},
   "outputs": [],
   "source": [
    "model=[LogisticRegression(),GaussianNB(),SVC(),DecisionTreeClassifier(),RandomForestClassifier()]"
   ]
  },
  {
   "cell_type": "code",
   "execution_count": 743,
   "metadata": {},
   "outputs": [
    {
     "name": "stdout",
     "output_type": "stream",
     "text": [
      "0.2813738441215324\n",
      "[[ 22 463]\n",
      " [ 81 191]]\n",
      "              precision    recall  f1-score   support\n",
      "\n",
      "           0       0.21      0.05      0.07       485\n",
      "           1       0.29      0.70      0.41       272\n",
      "\n",
      "    accuracy                           0.28       757\n",
      "   macro avg       0.25      0.37      0.24       757\n",
      "weighted avg       0.24      0.28      0.20       757\n",
      "\n",
      "\n",
      " \n",
      "0.36723910171730517\n",
      "[[217 268]\n",
      " [211  61]]\n",
      "              precision    recall  f1-score   support\n",
      "\n",
      "           0       0.51      0.45      0.48       485\n",
      "           1       0.19      0.22      0.20       272\n",
      "\n",
      "    accuracy                           0.37       757\n",
      "   macro avg       0.35      0.34      0.34       757\n",
      "weighted avg       0.39      0.37      0.38       757\n",
      "\n",
      "\n",
      " \n",
      "0.3474240422721268\n",
      "[[ 22 463]\n",
      " [ 31 241]]\n",
      "              precision    recall  f1-score   support\n",
      "\n",
      "           0       0.42      0.05      0.08       485\n",
      "           1       0.34      0.89      0.49       272\n",
      "\n",
      "    accuracy                           0.35       757\n",
      "   macro avg       0.38      0.47      0.29       757\n",
      "weighted avg       0.39      0.35      0.23       757\n",
      "\n",
      "\n",
      " \n",
      "0.36856010568031705\n",
      "[[ 81 404]\n",
      " [ 74 198]]\n",
      "              precision    recall  f1-score   support\n",
      "\n",
      "           0       0.52      0.17      0.25       485\n",
      "           1       0.33      0.73      0.45       272\n",
      "\n",
      "    accuracy                           0.37       757\n",
      "   macro avg       0.43      0.45      0.35       757\n",
      "weighted avg       0.45      0.37      0.32       757\n",
      "\n",
      "\n",
      " \n",
      "0.34478203434610305\n",
      "[[ 65 420]\n",
      " [ 76 196]]\n",
      "              precision    recall  f1-score   support\n",
      "\n",
      "           0       0.46      0.13      0.21       485\n",
      "           1       0.32      0.72      0.44       272\n",
      "\n",
      "    accuracy                           0.34       757\n",
      "   macro avg       0.39      0.43      0.32       757\n",
      "weighted avg       0.41      0.34      0.29       757\n",
      "\n",
      "\n",
      " \n"
     ]
    }
   ],
   "source": [
    "for m in model:\n",
    "    m.fit(x_train,y_train)\n",
    "    m.score(x_train,y_train)\n",
    "    predm=m.predict(x_test)\n",
    "    print(accuracy_score(y_test,predm))\n",
    "    print(confusion_matrix(y_test,predm))\n",
    "    print(classification_report(y_test,predm))\n",
    "    print('\\n ')"
   ]
  },
  {
   "cell_type": "markdown",
   "metadata": {},
   "source": [
    "# Checking Consistency on KNN Model using Cross Validation"
   ]
  },
  {
   "cell_type": "code",
   "execution_count": 744,
   "metadata": {},
   "outputs": [
    {
     "data": {
      "text/plain": [
       "array([0.55357143, 0.54464286, 0.5625    , 0.53571429, 0.5625    ,\n",
       "       0.57142857, 0.54464286, 0.56756757, 0.55855856, 0.53153153])"
      ]
     },
     "execution_count": 744,
     "metadata": {},
     "output_type": "execute_result"
    }
   ],
   "source": [
    "from sklearn.neighbors import KNeighborsClassifier as knn\n",
    "score=cross_val_score(knn(n_neighbors=18,),X=x_train, y=y_train,cv=10)\n",
    "score"
   ]
  },
  {
   "cell_type": "code",
   "execution_count": 745,
   "metadata": {},
   "outputs": [
    {
     "data": {
      "text/plain": [
       "(0.5550581915846016, 0.309114927344782)"
      ]
     },
     "execution_count": 745,
     "metadata": {},
     "output_type": "execute_result"
    }
   ],
   "source": [
    "score.mean()*100,score.std()*100\n",
    "clf=knn(n_neighbors=18)\n",
    "clf.fit(x_train,y_train)\n",
    "score1=clf.score(x_train,y_train)\n",
    "score=clf.score(x_test,y_test)\n",
    "score1,score"
   ]
  },
  {
   "cell_type": "markdown",
   "metadata": {},
   "source": [
    "# M2 Model building process"
   ]
  },
  {
   "cell_type": "markdown",
   "metadata": {},
   "source": [
    "# 1.Imputation of missing values with appropriate values "
   ]
  },
  {
   "cell_type": "code",
   "execution_count": 746,
   "metadata": {},
   "outputs": [],
   "source": [
    "#importing train/test datasets\n",
    "#importing the covid 19 training dataset (in xlsx format)\n",
    "#we are storing our dataset in \"df\" variable to make our job easier.\n",
    "df_train2=pd.read_excel(r'C:\\Users\\Sony\\Desktop\\covid-train-cleaned.xlsx')"
   ]
  },
  {
   "cell_type": "code",
   "execution_count": 747,
   "metadata": {},
   "outputs": [],
   "source": [
    "#importing the covid 19 training dataset (in xlsx format)\n",
    "#we are storing our dataset in \"df\" variable to make our job easier.\n",
    "df_test2=pd.read_excel(r'C:\\Users\\Sony\\Desktop\\covid-test.xlsx')"
   ]
  },
  {
   "cell_type": "code",
   "execution_count": 748,
   "metadata": {},
   "outputs": [],
   "source": [
    "#removing irrelevant columns from both datasets\n",
    "#dropping columns 'RE_DATE','age' and 'gender' from training dataset\n",
    "df_train2.drop('RE_DATE',axis=1,inplace=True)\n",
    "df_train2.drop('age',axis=1,inplace=True)\n",
    "df_train2.drop('gender',axis=1,inplace=True)"
   ]
  },
  {
   "cell_type": "code",
   "execution_count": 749,
   "metadata": {},
   "outputs": [],
   "source": [
    "#dropping columns 'RE_DATE','Admission time','Discharge time' from test dataset\n",
    "df_test2.drop('RE_DATE',axis=1,inplace=True)\n",
    "df_test2.drop('Admission time',axis=1,inplace=True)\n",
    "df_test2.drop('Discharge time',axis=1,inplace=True)"
   ]
  },
  {
   "cell_type": "code",
   "execution_count": 750,
   "metadata": {},
   "outputs": [
    {
     "data": {
      "text/html": [
       "<div>\n",
       "<style scoped>\n",
       "    .dataframe tbody tr th:only-of-type {\n",
       "        vertical-align: middle;\n",
       "    }\n",
       "\n",
       "    .dataframe tbody tr th {\n",
       "        vertical-align: top;\n",
       "    }\n",
       "\n",
       "    .dataframe thead th {\n",
       "        text-align: right;\n",
       "    }\n",
       "</style>\n",
       "<table border=\"1\" class=\"dataframe\">\n",
       "  <thead>\n",
       "    <tr style=\"text-align: right;\">\n",
       "      <th></th>\n",
       "      <th>PATIENT_ID</th>\n",
       "      <th>outcome</th>\n",
       "      <th>(%)lymphocyte</th>\n",
       "      <th>Lactate dehydrogenase</th>\n",
       "      <th>Hypersensitive c-reactive protein</th>\n",
       "    </tr>\n",
       "  </thead>\n",
       "  <tbody>\n",
       "    <tr>\n",
       "      <th>0</th>\n",
       "      <td>1.0</td>\n",
       "      <td>0</td>\n",
       "      <td>NaN</td>\n",
       "      <td>NaN</td>\n",
       "      <td>NaN</td>\n",
       "    </tr>\n",
       "    <tr>\n",
       "      <th>1</th>\n",
       "      <td>2.0</td>\n",
       "      <td>0</td>\n",
       "      <td>9.2</td>\n",
       "      <td>NaN</td>\n",
       "      <td>NaN</td>\n",
       "    </tr>\n",
       "    <tr>\n",
       "      <th>2</th>\n",
       "      <td>NaN</td>\n",
       "      <td>0</td>\n",
       "      <td>NaN</td>\n",
       "      <td>282.0</td>\n",
       "      <td>NaN</td>\n",
       "    </tr>\n",
       "    <tr>\n",
       "      <th>3</th>\n",
       "      <td>NaN</td>\n",
       "      <td>0</td>\n",
       "      <td>NaN</td>\n",
       "      <td>NaN</td>\n",
       "      <td>NaN</td>\n",
       "    </tr>\n",
       "    <tr>\n",
       "      <th>4</th>\n",
       "      <td>3.0</td>\n",
       "      <td>0</td>\n",
       "      <td>NaN</td>\n",
       "      <td>NaN</td>\n",
       "      <td>NaN</td>\n",
       "    </tr>\n",
       "  </tbody>\n",
       "</table>\n",
       "</div>"
      ],
      "text/plain": [
       "   PATIENT_ID  outcome  (%)lymphocyte  Lactate dehydrogenase  \\\n",
       "0         1.0        0            NaN                    NaN   \n",
       "1         2.0        0            9.2                    NaN   \n",
       "2         NaN        0            NaN                  282.0   \n",
       "3         NaN        0            NaN                    NaN   \n",
       "4         3.0        0            NaN                    NaN   \n",
       "\n",
       "   Hypersensitive c-reactive protein  \n",
       "0                                NaN  \n",
       "1                                NaN  \n",
       "2                                NaN  \n",
       "3                                NaN  \n",
       "4                                NaN  "
      ]
     },
     "execution_count": 750,
     "metadata": {},
     "output_type": "execute_result"
    }
   ],
   "source": [
    "df_train2.head()"
   ]
  },
  {
   "cell_type": "code",
   "execution_count": 751,
   "metadata": {},
   "outputs": [
    {
     "data": {
      "text/html": [
       "<div>\n",
       "<style scoped>\n",
       "    .dataframe tbody tr th:only-of-type {\n",
       "        vertical-align: middle;\n",
       "    }\n",
       "\n",
       "    .dataframe tbody tr th {\n",
       "        vertical-align: top;\n",
       "    }\n",
       "\n",
       "    .dataframe thead th {\n",
       "        text-align: right;\n",
       "    }\n",
       "</style>\n",
       "<table border=\"1\" class=\"dataframe\">\n",
       "  <thead>\n",
       "    <tr style=\"text-align: right;\">\n",
       "      <th></th>\n",
       "      <th>PATIENT_ID</th>\n",
       "      <th>Lactate dehydrogenase</th>\n",
       "      <th>Hypersensitive c-reactive protein</th>\n",
       "      <th>(%)lymphocyte</th>\n",
       "      <th>outcome</th>\n",
       "    </tr>\n",
       "  </thead>\n",
       "  <tbody>\n",
       "    <tr>\n",
       "      <th>0</th>\n",
       "      <td>1.0</td>\n",
       "      <td>NaN</td>\n",
       "      <td>NaN</td>\n",
       "      <td>28.0</td>\n",
       "      <td>0</td>\n",
       "    </tr>\n",
       "    <tr>\n",
       "      <th>1</th>\n",
       "      <td>NaN</td>\n",
       "      <td>183.0</td>\n",
       "      <td>5.1</td>\n",
       "      <td>NaN</td>\n",
       "      <td>0</td>\n",
       "    </tr>\n",
       "    <tr>\n",
       "      <th>2</th>\n",
       "      <td>NaN</td>\n",
       "      <td>NaN</td>\n",
       "      <td>NaN</td>\n",
       "      <td>28.6</td>\n",
       "      <td>0</td>\n",
       "    </tr>\n",
       "    <tr>\n",
       "      <th>3</th>\n",
       "      <td>NaN</td>\n",
       "      <td>194.0</td>\n",
       "      <td>2.7</td>\n",
       "      <td>NaN</td>\n",
       "      <td>0</td>\n",
       "    </tr>\n",
       "    <tr>\n",
       "      <th>4</th>\n",
       "      <td>2.0</td>\n",
       "      <td>NaN</td>\n",
       "      <td>NaN</td>\n",
       "      <td>28.3</td>\n",
       "      <td>0</td>\n",
       "    </tr>\n",
       "  </tbody>\n",
       "</table>\n",
       "</div>"
      ],
      "text/plain": [
       "   PATIENT_ID  Lactate dehydrogenase  Hypersensitive c-reactive protein  \\\n",
       "0         1.0                    NaN                                NaN   \n",
       "1         NaN                  183.0                                5.1   \n",
       "2         NaN                    NaN                                NaN   \n",
       "3         NaN                  194.0                                2.7   \n",
       "4         2.0                    NaN                                NaN   \n",
       "\n",
       "   (%)lymphocyte  outcome  \n",
       "0           28.0        0  \n",
       "1            NaN        0  \n",
       "2           28.6        0  \n",
       "3            NaN        0  \n",
       "4           28.3        0  "
      ]
     },
     "execution_count": 751,
     "metadata": {},
     "output_type": "execute_result"
    }
   ],
   "source": [
    "df_test2.head()"
   ]
  },
  {
   "cell_type": "code",
   "execution_count": 752,
   "metadata": {},
   "outputs": [
    {
     "data": {
      "text/plain": [
       "PATIENT_ID                           756\n",
       "outcome                                0\n",
       "(%)lymphocyte                        942\n",
       "Lactate dehydrogenase                957\n",
       "Hypersensitive c-reactive protein    993\n",
       "dtype: int64"
      ]
     },
     "execution_count": 752,
     "metadata": {},
     "output_type": "execute_result"
    }
   ],
   "source": [
    "#checking missing values\n",
    "df_train2.isnull().sum()"
   ]
  },
  {
   "cell_type": "code",
   "execution_count": 753,
   "metadata": {},
   "outputs": [
    {
     "data": {
      "text/plain": [
       "PATIENT_ID                           647\n",
       "Lactate dehydrogenase                397\n",
       "Hypersensitive c-reactive protein    472\n",
       "(%)lymphocyte                        384\n",
       "outcome                                0\n",
       "dtype: int64"
      ]
     },
     "execution_count": 753,
     "metadata": {},
     "output_type": "execute_result"
    }
   ],
   "source": [
    "df_test2.isnull().sum()"
   ]
  },
  {
   "cell_type": "markdown",
   "metadata": {},
   "source": [
    "# Model2 (M2) Missing Values Impution with Mean"
   ]
  },
  {
   "cell_type": "code",
   "execution_count": 754,
   "metadata": {},
   "outputs": [],
   "source": [
    "df_train2=df_train2.fillna(df_train2.mean())"
   ]
  },
  {
   "cell_type": "code",
   "execution_count": 755,
   "metadata": {},
   "outputs": [
    {
     "data": {
      "text/plain": [
       "PATIENT_ID                           0\n",
       "outcome                              0\n",
       "(%)lymphocyte                        0\n",
       "Lactate dehydrogenase                0\n",
       "Hypersensitive c-reactive protein    0\n",
       "dtype: int64"
      ]
     },
     "execution_count": 755,
     "metadata": {},
     "output_type": "execute_result"
    }
   ],
   "source": [
    "df_train2.isnull().sum()"
   ]
  },
  {
   "cell_type": "code",
   "execution_count": 756,
   "metadata": {},
   "outputs": [],
   "source": [
    "df_test2=df_test2.fillna(df_train2.mean())"
   ]
  },
  {
   "cell_type": "code",
   "execution_count": 757,
   "metadata": {},
   "outputs": [
    {
     "data": {
      "text/plain": [
       "PATIENT_ID                           0\n",
       "Lactate dehydrogenase                0\n",
       "Hypersensitive c-reactive protein    0\n",
       "(%)lymphocyte                        0\n",
       "outcome                              0\n",
       "dtype: int64"
      ]
     },
     "execution_count": 757,
     "metadata": {},
     "output_type": "execute_result"
    }
   ],
   "source": [
    "df_test2.isnull().sum()"
   ]
  },
  {
   "cell_type": "markdown",
   "metadata": {},
   "source": [
    "# M2 Model Processing/Selection/Building"
   ]
  },
  {
   "cell_type": "markdown",
   "metadata": {},
   "source": [
    "# 2.Seperating Input/Output variables\n"
   ]
  },
  {
   "cell_type": "code",
   "execution_count": 758,
   "metadata": {},
   "outputs": [],
   "source": [
    "'''Learning Features and Predicting Features'''\n",
    "x_train2 = df_train2.drop(['PATIENT_ID','outcome'], axis = 1)\n",
    "y_train2 = df_train2['outcome']"
   ]
  },
  {
   "cell_type": "code",
   "execution_count": 759,
   "metadata": {},
   "outputs": [],
   "source": [
    "'''Learning Features and Predicting Features'''\n",
    "x_test2 = df_test2.drop(['PATIENT_ID','outcome'], axis = 1)\n",
    "y_test2 = df_test2['outcome']"
   ]
  },
  {
   "cell_type": "code",
   "execution_count": 760,
   "metadata": {},
   "outputs": [
    {
     "data": {
      "text/plain": [
       "((1117, 3), (1117,), (757, 3), (757,))"
      ]
     },
     "execution_count": 760,
     "metadata": {},
     "output_type": "execute_result"
    }
   ],
   "source": [
    "x_train2.shape,y_train2.shape,x_test2.shape,y_test2.shape"
   ]
  },
  {
   "cell_type": "markdown",
   "metadata": {},
   "source": [
    "# 3.Applying Standardiztion Technique to get optimized results through Standard Scaler"
   ]
  },
  {
   "cell_type": "code",
   "execution_count": 761,
   "metadata": {},
   "outputs": [],
   "source": [
    "sc = StandardScaler()\n",
    "x_train2=sc.fit_transform(x_train2)\n",
    "x_test2=sc.fit_transform(x_test2)"
   ]
  },
  {
   "cell_type": "markdown",
   "metadata": {},
   "source": [
    "# 4.Model Selection/Building for M2"
   ]
  },
  {
   "cell_type": "code",
   "execution_count": 762,
   "metadata": {},
   "outputs": [],
   "source": [
    "model2=[LogisticRegression(),GaussianNB(),SVC(),DecisionTreeClassifier(),RandomForestClassifier()]"
   ]
  },
  {
   "cell_type": "code",
   "execution_count": 763,
   "metadata": {},
   "outputs": [
    {
     "name": "stdout",
     "output_type": "stream",
     "text": [
      "0.17569352708058125\n",
      "[[ 39 446]\n",
      " [178  94]]\n",
      "              precision    recall  f1-score   support\n",
      "\n",
      "           0       0.18      0.08      0.11       485\n",
      "           1       0.17      0.35      0.23       272\n",
      "\n",
      "    accuracy                           0.18       757\n",
      "   macro avg       0.18      0.21      0.17       757\n",
      "weighted avg       0.18      0.18      0.15       757\n",
      "\n",
      "\n",
      " \n",
      "0.42800528401585203\n",
      "[[100 385]\n",
      " [ 48 224]]\n",
      "              precision    recall  f1-score   support\n",
      "\n",
      "           0       0.68      0.21      0.32       485\n",
      "           1       0.37      0.82      0.51       272\n",
      "\n",
      "    accuracy                           0.43       757\n",
      "   macro avg       0.52      0.51      0.41       757\n",
      "weighted avg       0.57      0.43      0.39       757\n",
      "\n",
      "\n",
      " \n",
      "0.3130779392338177\n",
      "[[  0 485]\n",
      " [ 35 237]]\n",
      "              precision    recall  f1-score   support\n",
      "\n",
      "           0       0.00      0.00      0.00       485\n",
      "           1       0.33      0.87      0.48       272\n",
      "\n",
      "    accuracy                           0.31       757\n",
      "   macro avg       0.16      0.44      0.24       757\n",
      "weighted avg       0.12      0.31      0.17       757\n",
      "\n",
      "\n",
      " \n",
      "0.34081902245706736\n",
      "[[ 15 470]\n",
      " [ 29 243]]\n",
      "              precision    recall  f1-score   support\n",
      "\n",
      "           0       0.34      0.03      0.06       485\n",
      "           1       0.34      0.89      0.49       272\n",
      "\n",
      "    accuracy                           0.34       757\n",
      "   macro avg       0.34      0.46      0.28       757\n",
      "weighted avg       0.34      0.34      0.21       757\n",
      "\n",
      "\n",
      " \n",
      "0.3276089828269485\n",
      "[[  0 485]\n",
      " [ 24 248]]\n",
      "              precision    recall  f1-score   support\n",
      "\n",
      "           0       0.00      0.00      0.00       485\n",
      "           1       0.34      0.91      0.49       272\n",
      "\n",
      "    accuracy                           0.33       757\n",
      "   macro avg       0.17      0.46      0.25       757\n",
      "weighted avg       0.12      0.33      0.18       757\n",
      "\n",
      "\n",
      " \n"
     ]
    }
   ],
   "source": [
    "for m in model2:\n",
    "    m.fit(x_train2,y_train2)\n",
    "    m.score(x_train2,y_train2)\n",
    "    predm=m.predict(x_test2)\n",
    "    print(accuracy_score(y_test2,predm))\n",
    "    print(confusion_matrix(y_test2,predm))\n",
    "    print(classification_report(y_test2,predm))\n",
    "    print('\\n ')"
   ]
  },
  {
   "cell_type": "code",
   "execution_count": 764,
   "metadata": {},
   "outputs": [
    {
     "data": {
      "text/plain": [
       "array([0.54464286, 0.53571429, 0.54464286, 0.53571429, 0.55357143,\n",
       "       0.54464286, 0.53571429, 0.56756757, 0.54954955, 0.52252252])"
      ]
     },
     "execution_count": 764,
     "metadata": {},
     "output_type": "execute_result"
    }
   ],
   "source": [
    "# Checking Consistency on KNN Model using Cross Validation\n",
    "from sklearn.neighbors import KNeighborsClassifier as knn\n",
    "score2=cross_val_score(knn(n_neighbors=18,),X=x_train2, y=y_train2,cv=10)\n",
    "score2"
   ]
  },
  {
   "cell_type": "code",
   "execution_count": 765,
   "metadata": {},
   "outputs": [
    {
     "data": {
      "text/plain": [
       "(0.5452103849597135, 0.29722589167767505)"
      ]
     },
     "execution_count": 765,
     "metadata": {},
     "output_type": "execute_result"
    }
   ],
   "source": [
    "score2.mean()*100,score.std()*100\n",
    "clf=knn(n_neighbors=18)\n",
    "clf.fit(x_train2,y_train2)\n",
    "score22=clf.score(x_train2,y_train2)\n",
    "score2=clf.score(x_test2,y_test2)\n",
    "score22,score2"
   ]
  },
  {
   "cell_type": "markdown",
   "metadata": {},
   "source": [
    "# M3 Model building process"
   ]
  },
  {
   "cell_type": "markdown",
   "metadata": {},
   "source": [
    "Task: Taking the relevant rows of a patient,padding missing values with -1 and creating model which has highest accuracy score"
   ]
  },
  {
   "cell_type": "markdown",
   "metadata": {},
   "source": [
    "# 1.Importing Train/Test datasets"
   ]
  },
  {
   "cell_type": "code",
   "execution_count": 766,
   "metadata": {},
   "outputs": [],
   "source": [
    "#importing the covid 19 training dataset (in xlsx format)\n",
    "#we are storing our dataset in \"df\" variable to make our job easier.\n",
    "df_train3=pd.read_excel(r'C:\\Users\\Sony\\Desktop\\covid-train-cleaned.xlsx')"
   ]
  },
  {
   "cell_type": "code",
   "execution_count": 767,
   "metadata": {},
   "outputs": [],
   "source": [
    "#importing the covid 19 training dataset (in xlsx format)\n",
    "#we are storing our dataset in \"df\" variable to make our job easier.\n",
    "df_test3=pd.read_excel(r'C:\\Users\\Sony\\Desktop\\covid-test3.xlsx')"
   ]
  },
  {
   "cell_type": "markdown",
   "metadata": {},
   "source": [
    "# 1.Imputation of missing values with '-1'"
   ]
  },
  {
   "cell_type": "code",
   "execution_count": 768,
   "metadata": {},
   "outputs": [],
   "source": [
    "#removing irrelevant columns from both datasets\n",
    "#dropping columns 'RE_DATE','age' and 'gender' from training dataset\n",
    "df_train3.drop('RE_DATE',axis=1,inplace=True)\n",
    "df_train3.drop('age',axis=1,inplace=True)\n",
    "df_train3.drop('gender',axis=1,inplace=True)"
   ]
  },
  {
   "cell_type": "code",
   "execution_count": 769,
   "metadata": {},
   "outputs": [],
   "source": [
    "#dropping columns 'RE_DATE','Admission time','Discharge time' from test dataset\n",
    "df_test3.drop('RE_DATE',axis=1,inplace=True)\n",
    "df_test3.drop('Admission time',axis=1,inplace=True)\n",
    "df_test3.drop('Discharge time',axis=1,inplace=True)"
   ]
  },
  {
   "cell_type": "code",
   "execution_count": 770,
   "metadata": {},
   "outputs": [
    {
     "data": {
      "text/plain": [
       "PATIENT_ID                           756\n",
       "outcome                                0\n",
       "(%)lymphocyte                        942\n",
       "Lactate dehydrogenase                957\n",
       "Hypersensitive c-reactive protein    993\n",
       "dtype: int64"
      ]
     },
     "execution_count": 770,
     "metadata": {},
     "output_type": "execute_result"
    }
   ],
   "source": [
    "#checking missing values\n",
    "df_train3.isnull().sum()"
   ]
  },
  {
   "cell_type": "code",
   "execution_count": 771,
   "metadata": {},
   "outputs": [
    {
     "data": {
      "text/plain": [
       "PATIENT_ID                           605\n",
       "Lactate dehydrogenase                374\n",
       "Hypersensitive c-reactive protein    445\n",
       "(%)lymphocyte                        361\n",
       "outcome                                0\n",
       "dtype: int64"
      ]
     },
     "execution_count": 771,
     "metadata": {},
     "output_type": "execute_result"
    }
   ],
   "source": [
    "df_test3.isnull().sum()"
   ]
  },
  {
   "cell_type": "markdown",
   "metadata": {},
   "source": [
    "# Model 3 (M3) Missing Values Impution with '-1'"
   ]
  },
  {
   "cell_type": "code",
   "execution_count": 772,
   "metadata": {},
   "outputs": [
    {
     "name": "stdout",
     "output_type": "stream",
     "text": [
      "Imputation with -1: (%)lymphocyte\n",
      "Imputation with -1: Lactate dehydrogenase\n",
      "Imputation with -1: Hypersensitive c-reactive protein\n",
      "Missing value imputation done.\n"
     ]
    }
   ],
   "source": [
    "#Missing values imputation by -1 for all columns accept 'PATIENT_ID','AGE' and 'Gender'\n",
    "\n",
    "cols = ['(%)lymphocyte',\n",
    "       'Lactate dehydrogenase', 'Hypersensitive c-reactive protein']\n",
    "for col in cols:\n",
    "    print('Imputation with -1: %s' % (col))\n",
    "    df_train3[col].fillna(-1, inplace=True)\n",
    "    \n",
    "    \n",
    "print('Missing value imputation done.')"
   ]
  },
  {
   "cell_type": "code",
   "execution_count": 773,
   "metadata": {},
   "outputs": [
    {
     "name": "stdout",
     "output_type": "stream",
     "text": [
      "Imputation with zero: PATIENT_ID\n",
      "Missing value imputation done.\n"
     ]
    }
   ],
   "source": [
    "#Missing values imputation by 0(zero) for columns 'PATIENT_ID','AGE' and 'Gender'\n",
    "\n",
    "cols = ['PATIENT_ID']\n",
    "for col in cols:\n",
    "    print('Imputation with zero: %s' % (col))\n",
    "    df_train3[col].fillna(0, inplace=True)\n",
    "    \n",
    "    \n",
    "print('Missing value imputation done.')"
   ]
  },
  {
   "cell_type": "code",
   "execution_count": 774,
   "metadata": {},
   "outputs": [
    {
     "name": "stdout",
     "output_type": "stream",
     "text": [
      "Imputation with -1: Lactate dehydrogenase\n",
      "Imputation with -1: Hypersensitive c-reactive protein\n",
      "Imputation with -1: (%)lymphocyte\n",
      "Imputation with -1: outcome\n",
      "Missing value imputation done.\n"
     ]
    }
   ],
   "source": [
    "\n",
    "#Missing values imputation\n",
    "\n",
    "cols = ['Lactate dehydrogenase',\n",
    "       'Hypersensitive c-reactive protein', '(%)lymphocyte', 'outcome']\n",
    "for col in cols:\n",
    "    print('Imputation with -1: %s' % (col))\n",
    "    df_test3[col].fillna(0, inplace=True)\n",
    "    \n",
    "    \n",
    "print('Missing value imputation done.')"
   ]
  },
  {
   "cell_type": "code",
   "execution_count": 775,
   "metadata": {},
   "outputs": [
    {
     "name": "stdout",
     "output_type": "stream",
     "text": [
      "Imputation with zero: PATIENT_ID\n",
      "Missing value imputation done.\n"
     ]
    }
   ],
   "source": [
    "cols = ['PATIENT_ID']\n",
    "for col in cols:\n",
    "    print('Imputation with zero: %s' % (col))\n",
    "    df_test3[col].fillna(0, inplace=True)\n",
    "    \n",
    "    \n",
    "print('Missing value imputation done.')"
   ]
  },
  {
   "cell_type": "code",
   "execution_count": 776,
   "metadata": {},
   "outputs": [
    {
     "data": {
      "text/plain": [
       "PATIENT_ID                           0\n",
       "outcome                              0\n",
       "(%)lymphocyte                        0\n",
       "Lactate dehydrogenase                0\n",
       "Hypersensitive c-reactive protein    0\n",
       "dtype: int64"
      ]
     },
     "execution_count": 776,
     "metadata": {},
     "output_type": "execute_result"
    }
   ],
   "source": [
    "df_train3.isnull().sum()"
   ]
  },
  {
   "cell_type": "code",
   "execution_count": 777,
   "metadata": {},
   "outputs": [
    {
     "data": {
      "text/plain": [
       "PATIENT_ID                           0\n",
       "Lactate dehydrogenase                0\n",
       "Hypersensitive c-reactive protein    0\n",
       "(%)lymphocyte                        0\n",
       "outcome                              0\n",
       "dtype: int64"
      ]
     },
     "execution_count": 777,
     "metadata": {},
     "output_type": "execute_result"
    }
   ],
   "source": [
    "df_test3.isnull().sum()"
   ]
  },
  {
   "cell_type": "markdown",
   "metadata": {},
   "source": [
    "# 2.Seperating Input/Output variables"
   ]
  },
  {
   "cell_type": "code",
   "execution_count": 778,
   "metadata": {},
   "outputs": [],
   "source": [
    "'''Learning Features and Predicting Features'''\n",
    "x_train3 = df_train3.drop(['PATIENT_ID','outcome'], axis = 1)\n",
    "y_train3 = df_train3['outcome']"
   ]
  },
  {
   "cell_type": "code",
   "execution_count": 779,
   "metadata": {},
   "outputs": [],
   "source": [
    "'''Learning Features and Predicting Features'''\n",
    "x_test3 = df_test3.drop(['PATIENT_ID','outcome'], axis = 1)\n",
    "y_test3 = df_test3['outcome']"
   ]
  },
  {
   "cell_type": "code",
   "execution_count": 780,
   "metadata": {},
   "outputs": [
    {
     "data": {
      "text/plain": [
       "((1117, 3), (1117,), (715, 3), (715,))"
      ]
     },
     "execution_count": 780,
     "metadata": {},
     "output_type": "execute_result"
    }
   ],
   "source": [
    "x_train3.shape,y_train3.shape,x_test3.shape,y_test3.shape"
   ]
  },
  {
   "cell_type": "markdown",
   "metadata": {},
   "source": [
    "# 3.Applying Standardiztion Technique to get optimized results through Standard Scaler"
   ]
  },
  {
   "cell_type": "code",
   "execution_count": 781,
   "metadata": {},
   "outputs": [],
   "source": [
    "sc = StandardScaler()\n",
    "x_train3=sc.fit_transform(x_train3)\n",
    "x_test3=sc.fit_transform(x_test3)"
   ]
  },
  {
   "cell_type": "markdown",
   "metadata": {},
   "source": [
    "# 4.Model Selection/Building for M3"
   ]
  },
  {
   "cell_type": "markdown",
   "metadata": {},
   "source": [
    "# using SVM Model"
   ]
  },
  {
   "cell_type": "code",
   "execution_count": 782,
   "metadata": {},
   "outputs": [],
   "source": [
    "'''Creating Object of SVM'''\n",
    "from sklearn import svm\n",
    "\n",
    "svmModel3 = svm.SVC(kernel='rbf', C=1, gamma=100) \n",
    "'''Learning from Training Set'''\n",
    "svmModel3.fit(x_train3, y_train3)\n",
    "'''Predicting for Training Set'''\n",
    "y_pred3 = svmModel3.predict(x_test3)\n",
    "'''Accuracy Score'''\n",
    "result_acc3 = accuracy_score(y_test3,y_pred3)"
   ]
  },
  {
   "cell_type": "code",
   "execution_count": 783,
   "metadata": {},
   "outputs": [
    {
     "data": {
      "text/plain": [
       "0.34405594405594403"
      ]
     },
     "execution_count": 783,
     "metadata": {},
     "output_type": "execute_result"
    }
   ],
   "source": [
    "result_acc3"
   ]
  },
  {
   "cell_type": "code",
   "execution_count": 784,
   "metadata": {},
   "outputs": [],
   "source": [
    "svc = SVC()\n",
    "svc.fit(x_train3, y_train3)\n",
    "pred_svc3 = svc.predict(x_test3)"
   ]
  },
  {
   "cell_type": "code",
   "execution_count": 785,
   "metadata": {},
   "outputs": [
    {
     "name": "stdout",
     "output_type": "stream",
     "text": [
      "              precision    recall  f1-score   support\n",
      "\n",
      "           0       0.44      0.05      0.08       469\n",
      "           1       0.33      0.89      0.48       246\n",
      "\n",
      "    accuracy                           0.34       715\n",
      "   macro avg       0.38      0.47      0.28       715\n",
      "weighted avg       0.40      0.34      0.22       715\n",
      "\n"
     ]
    }
   ],
   "source": [
    "print(classification_report(y_test3, pred_svc3))"
   ]
  },
  {
   "cell_type": "markdown",
   "metadata": {},
   "source": [
    "# M4 Model building process"
   ]
  },
  {
   "cell_type": "markdown",
   "metadata": {},
   "source": [
    "Task: Taking the relevant rows of a patient,padding missing values with appropriate values and creating model which has highest accuracy score"
   ]
  },
  {
   "cell_type": "markdown",
   "metadata": {},
   "source": [
    "# 1. Importing Train/Test Dataset"
   ]
  },
  {
   "cell_type": "code",
   "execution_count": 786,
   "metadata": {},
   "outputs": [],
   "source": [
    "#importing the covid 19 training dataset (in xlsx format)\n",
    "#we are storing our dataset in \"df\" variable to make our job easier.\n",
    "df_train4=pd.read_excel(r'C:\\Users\\Sony\\Desktop\\covid-train-cleaned.xlsx')"
   ]
  },
  {
   "cell_type": "code",
   "execution_count": 787,
   "metadata": {},
   "outputs": [],
   "source": [
    "#importing the covid 19 training dataset (in xlsx format)\n",
    "#we are storing our dataset in \"df\" variable to make our job easier.\n",
    "df_test4=pd.read_excel(r'C:\\Users\\Sony\\Desktop\\covid-test3.xlsx')"
   ]
  },
  {
   "cell_type": "markdown",
   "metadata": {},
   "source": [
    "# 2.Imputation of missing values with appropriate value"
   ]
  },
  {
   "cell_type": "code",
   "execution_count": 788,
   "metadata": {},
   "outputs": [],
   "source": [
    "#removing irrelevant columns from both datasets\n",
    "#dropping columns 'RE_DATE','age' and 'gender' from training dataset\n",
    "df_train4.drop('RE_DATE',axis=1,inplace=True)\n",
    "df_train4.drop('age',axis=1,inplace=True)\n",
    "df_train4.drop('gender',axis=1,inplace=True)"
   ]
  },
  {
   "cell_type": "code",
   "execution_count": 789,
   "metadata": {},
   "outputs": [],
   "source": [
    "#dropping columns 'RE_DATE','Admission time','Discharge time' from test dataset\n",
    "df_test4.drop('RE_DATE',axis=1,inplace=True)\n",
    "df_test4.drop('Admission time',axis=1,inplace=True)\n",
    "df_test4.drop('Discharge time',axis=1,inplace=True)"
   ]
  },
  {
   "cell_type": "code",
   "execution_count": 790,
   "metadata": {},
   "outputs": [
    {
     "data": {
      "text/plain": [
       "PATIENT_ID                           756\n",
       "outcome                                0\n",
       "(%)lymphocyte                        942\n",
       "Lactate dehydrogenase                957\n",
       "Hypersensitive c-reactive protein    993\n",
       "dtype: int64"
      ]
     },
     "execution_count": 790,
     "metadata": {},
     "output_type": "execute_result"
    }
   ],
   "source": [
    "#checking missing values\n",
    "df_train4.isnull().sum()"
   ]
  },
  {
   "cell_type": "code",
   "execution_count": 791,
   "metadata": {},
   "outputs": [
    {
     "data": {
      "text/plain": [
       "PATIENT_ID                           605\n",
       "Lactate dehydrogenase                374\n",
       "Hypersensitive c-reactive protein    445\n",
       "(%)lymphocyte                        361\n",
       "outcome                                0\n",
       "dtype: int64"
      ]
     },
     "execution_count": 791,
     "metadata": {},
     "output_type": "execute_result"
    }
   ],
   "source": [
    "df_test4.isnull().sum()"
   ]
  },
  {
   "cell_type": "markdown",
   "metadata": {},
   "source": [
    "# Model 4 (M4) Missing Values Impution with 'median'"
   ]
  },
  {
   "cell_type": "code",
   "execution_count": 792,
   "metadata": {},
   "outputs": [],
   "source": [
    "df_train4=df_train4.fillna(df_train4.median())"
   ]
  },
  {
   "cell_type": "code",
   "execution_count": 793,
   "metadata": {},
   "outputs": [
    {
     "data": {
      "text/plain": [
       "PATIENT_ID                           0\n",
       "outcome                              0\n",
       "(%)lymphocyte                        0\n",
       "Lactate dehydrogenase                0\n",
       "Hypersensitive c-reactive protein    0\n",
       "dtype: int64"
      ]
     },
     "execution_count": 793,
     "metadata": {},
     "output_type": "execute_result"
    }
   ],
   "source": [
    "df_train4.isnull().sum()"
   ]
  },
  {
   "cell_type": "code",
   "execution_count": 794,
   "metadata": {},
   "outputs": [],
   "source": [
    "df_test4=df_test4.fillna(df_train4.median())"
   ]
  },
  {
   "cell_type": "code",
   "execution_count": 795,
   "metadata": {},
   "outputs": [
    {
     "data": {
      "text/plain": [
       "PATIENT_ID                           0\n",
       "Lactate dehydrogenase                0\n",
       "Hypersensitive c-reactive protein    0\n",
       "(%)lymphocyte                        0\n",
       "outcome                              0\n",
       "dtype: int64"
      ]
     },
     "execution_count": 795,
     "metadata": {},
     "output_type": "execute_result"
    }
   ],
   "source": [
    "df_test4.isnull().sum()"
   ]
  },
  {
   "cell_type": "markdown",
   "metadata": {},
   "source": [
    "# 3.Seperating Input/Output variables"
   ]
  },
  {
   "cell_type": "code",
   "execution_count": 796,
   "metadata": {},
   "outputs": [],
   "source": [
    "'''Learning Features and Predicting Features'''\n",
    "x_train4 = df_train4.drop(['PATIENT_ID','outcome'], axis = 1)\n",
    "y_train4 = df_train4['outcome']"
   ]
  },
  {
   "cell_type": "code",
   "execution_count": 797,
   "metadata": {},
   "outputs": [],
   "source": [
    "'''Learning Features and Predicting Features'''\n",
    "x_test4 = df_test4.drop(['PATIENT_ID','outcome'], axis = 1)\n",
    "y_test4 = df_test4['outcome']"
   ]
  },
  {
   "cell_type": "code",
   "execution_count": 798,
   "metadata": {},
   "outputs": [
    {
     "data": {
      "text/plain": [
       "((1117, 3), (1117,), (715, 3), (715,))"
      ]
     },
     "execution_count": 798,
     "metadata": {},
     "output_type": "execute_result"
    }
   ],
   "source": [
    "x_train4.shape,y_train4.shape,x_test4.shape,y_test4.shape"
   ]
  },
  {
   "cell_type": "markdown",
   "metadata": {},
   "source": [
    "# 4.Applying Standardiztion Technique to get optimized results through Standard Scaler"
   ]
  },
  {
   "cell_type": "code",
   "execution_count": 799,
   "metadata": {},
   "outputs": [],
   "source": [
    "sc = StandardScaler()\n",
    "x_train4=sc.fit_transform(x_train4)\n",
    "x_test4=sc.fit_transform(x_test4)"
   ]
  },
  {
   "cell_type": "markdown",
   "metadata": {},
   "source": [
    "# 5.Model Selection/Building for M4"
   ]
  },
  {
   "cell_type": "code",
   "execution_count": 800,
   "metadata": {},
   "outputs": [],
   "source": [
    "model4=[LogisticRegression(),GaussianNB(),SVC(),DecisionTreeClassifier(),RandomForestClassifier()]"
   ]
  },
  {
   "cell_type": "code",
   "execution_count": 801,
   "metadata": {},
   "outputs": [
    {
     "name": "stdout",
     "output_type": "stream",
     "text": [
      "0.5174825174825175\n",
      "[[173 296]\n",
      " [ 49 197]]\n",
      "              precision    recall  f1-score   support\n",
      "\n",
      "           0       0.78      0.37      0.50       469\n",
      "           1       0.40      0.80      0.53       246\n",
      "\n",
      "    accuracy                           0.52       715\n",
      "   macro avg       0.59      0.58      0.52       715\n",
      "weighted avg       0.65      0.52      0.51       715\n",
      "\n",
      "\n",
      " \n",
      "0.5062937062937063\n",
      "[[177 292]\n",
      " [ 61 185]]\n",
      "              precision    recall  f1-score   support\n",
      "\n",
      "           0       0.74      0.38      0.50       469\n",
      "           1       0.39      0.75      0.51       246\n",
      "\n",
      "    accuracy                           0.51       715\n",
      "   macro avg       0.57      0.56      0.51       715\n",
      "weighted avg       0.62      0.51      0.50       715\n",
      "\n",
      "\n",
      " \n",
      "0.5216783216783217\n",
      "[[156 313]\n",
      " [ 29 217]]\n",
      "              precision    recall  f1-score   support\n",
      "\n",
      "           0       0.84      0.33      0.48       469\n",
      "           1       0.41      0.88      0.56       246\n",
      "\n",
      "    accuracy                           0.52       715\n",
      "   macro avg       0.63      0.61      0.52       715\n",
      "weighted avg       0.69      0.52      0.51       715\n",
      "\n",
      "\n",
      " \n",
      "0.48671328671328673\n",
      "[[122 347]\n",
      " [ 20 226]]\n",
      "              precision    recall  f1-score   support\n",
      "\n",
      "           0       0.86      0.26      0.40       469\n",
      "           1       0.39      0.92      0.55       246\n",
      "\n",
      "    accuracy                           0.49       715\n",
      "   macro avg       0.63      0.59      0.48       715\n",
      "weighted avg       0.70      0.49      0.45       715\n",
      "\n",
      "\n",
      " \n",
      "0.43916083916083914\n",
      "[[ 87 382]\n",
      " [ 19 227]]\n",
      "              precision    recall  f1-score   support\n",
      "\n",
      "           0       0.82      0.19      0.30       469\n",
      "           1       0.37      0.92      0.53       246\n",
      "\n",
      "    accuracy                           0.44       715\n",
      "   macro avg       0.60      0.55      0.42       715\n",
      "weighted avg       0.67      0.44      0.38       715\n",
      "\n",
      "\n",
      " \n"
     ]
    }
   ],
   "source": [
    "for m in model4:\n",
    "    m.fit(x_train4,y_train4)\n",
    "    m.score(x_train4,y_train4)\n",
    "    predm4=m.predict(x_test4)\n",
    "    print(accuracy_score(y_test4,predm4))\n",
    "    print(confusion_matrix(y_test4,predm4))\n",
    "    print(classification_report(y_test4,predm4))\n",
    "    print('\\n ')"
   ]
  },
  {
   "cell_type": "markdown",
   "metadata": {},
   "source": [
    "# Cross Validation(KNN Model)"
   ]
  },
  {
   "cell_type": "code",
   "execution_count": 802,
   "metadata": {},
   "outputs": [
    {
     "data": {
      "text/plain": [
       "array([0.53571429, 0.55357143, 0.55357143, 0.5       , 0.54464286,\n",
       "       0.5625    , 0.51785714, 0.56756757, 0.52252252, 0.53153153])"
      ]
     },
     "execution_count": 802,
     "metadata": {},
     "output_type": "execute_result"
    }
   ],
   "source": [
    "# Checking Consistency on KNN Model using Cross Validation\n",
    "from sklearn.neighbors import KNeighborsClassifier as knn\n",
    "score4=cross_val_score(knn(n_neighbors=20,),X=x_train4, y=y_train4,cv=10)\n",
    "score4"
   ]
  },
  {
   "cell_type": "code",
   "execution_count": 803,
   "metadata": {},
   "outputs": [
    {
     "data": {
      "text/plain": [
       "(0.5470008952551477, 0.45594405594405596)"
      ]
     },
     "execution_count": 803,
     "metadata": {},
     "output_type": "execute_result"
    }
   ],
   "source": [
    "score4.mean()*100,score.std()*100\n",
    "clf=knn(n_neighbors=18)\n",
    "clf.fit(x_train4,y_train4)\n",
    "score44=clf.score(x_train4,y_train4)\n",
    "score4=clf.score(x_test4,y_test4)\n",
    "score44,score4"
   ]
  },
  {
   "cell_type": "code",
   "execution_count": 804,
   "metadata": {},
   "outputs": [
    {
     "data": {
      "text/plain": [
       "0.35244755244755244"
      ]
     },
     "execution_count": 804,
     "metadata": {},
     "output_type": "execute_result"
    }
   ],
   "source": [
    "# AdaBoost Algorithm\n",
    "from sklearn.ensemble import AdaBoostClassifier\n",
    "ada= AdaBoostClassifier()\n",
    "# n_estimators = 50 (default value) \n",
    "# base_estimator = DecisionTreeClassifier (default value)\n",
    "ada.fit(x_train4,y_train4)\n",
    "predada = ada.predict(x_test4)\n",
    "metrics.accuracy_score(y_test4, predada)"
   ]
  },
  {
   "cell_type": "code",
   "execution_count": 805,
   "metadata": {},
   "outputs": [
    {
     "data": {
      "text/plain": [
       "0.5188811188811189"
      ]
     },
     "execution_count": 805,
     "metadata": {},
     "output_type": "execute_result"
    }
   ],
   "source": [
    "from sklearn.svm import SVC\n",
    "\n",
    "svm = SVC(kernel='linear') \n",
    "svm.fit(x_train4,y_train4)\n",
    "predsvm = svm.predict(x_test4)\n",
    "metrics.accuracy_score(y_test5, predsvm)"
   ]
  },
  {
   "cell_type": "code",
   "execution_count": 806,
   "metadata": {},
   "outputs": [
    {
     "name": "stdout",
     "output_type": "stream",
     "text": [
      "              precision    recall  f1-score   support\n",
      "\n",
      "           0       0.84      0.33      0.47       469\n",
      "           1       0.41      0.88      0.56       246\n",
      "\n",
      "    accuracy                           0.52       715\n",
      "   macro avg       0.62      0.61      0.52       715\n",
      "weighted avg       0.69      0.52      0.50       715\n",
      "\n"
     ]
    }
   ],
   "source": [
    "print(classification_report(y_test5, predsvm))"
   ]
  },
  {
   "cell_type": "markdown",
   "metadata": {},
   "source": [
    "# Hyper Parameter Tuning for SVC Model Using GridSearch CV"
   ]
  },
  {
   "cell_type": "code",
   "execution_count": 807,
   "metadata": {},
   "outputs": [],
   "source": [
    "param = {\n",
    "    'C': [0.1,0.8,0.9,1,1.1,1.2,1.3,1.4],\n",
    "    'kernel':['linear', 'rbf'],\n",
    "    'gamma' :[0.1,0.8,0.9,1,1.1,1.2,1.3,1.4]\n",
    "}\n",
    "grid_svc = GridSearchCV(svm, param_grid=param, scoring='accuracy', cv=10)"
   ]
  },
  {
   "cell_type": "code",
   "execution_count": 808,
   "metadata": {},
   "outputs": [
    {
     "data": {
      "text/plain": [
       "GridSearchCV(cv=10, error_score=nan,\n",
       "             estimator=SVC(C=1.0, break_ties=False, cache_size=200,\n",
       "                           class_weight=None, coef0=0.0,\n",
       "                           decision_function_shape='ovr', degree=3,\n",
       "                           gamma='scale', kernel='linear', max_iter=-1,\n",
       "                           probability=False, random_state=None, shrinking=True,\n",
       "                           tol=0.001, verbose=False),\n",
       "             iid='deprecated', n_jobs=None,\n",
       "             param_grid={'C': [0.1, 0.8, 0.9, 1, 1.1, 1.2, 1.3, 1.4],\n",
       "                         'gamma': [0.1, 0.8, 0.9, 1, 1.1, 1.2, 1.3, 1.4],\n",
       "                         'kernel': ['linear', 'rbf']},\n",
       "             pre_dispatch='2*n_jobs', refit=True, return_train_score=False,\n",
       "             scoring='accuracy', verbose=0)"
      ]
     },
     "execution_count": 808,
     "metadata": {},
     "output_type": "execute_result"
    }
   ],
   "source": [
    "grid_svc.fit(x_train4, y_train4)"
   ]
  },
  {
   "cell_type": "code",
   "execution_count": 809,
   "metadata": {},
   "outputs": [
    {
     "data": {
      "text/plain": [
       "{'C': 1.2, 'gamma': 0.1, 'kernel': 'rbf'}"
      ]
     },
     "execution_count": 809,
     "metadata": {},
     "output_type": "execute_result"
    }
   ],
   "source": [
    "#Best parameters for our svc model\n",
    "grid_svc.best_params_"
   ]
  },
  {
   "cell_type": "code",
   "execution_count": 810,
   "metadata": {},
   "outputs": [
    {
     "name": "stdout",
     "output_type": "stream",
     "text": [
      "              precision    recall  f1-score   support\n",
      "\n",
      "           0       0.83      0.35      0.49       469\n",
      "           1       0.41      0.86      0.55       246\n",
      "\n",
      "    accuracy                           0.52       715\n",
      "   macro avg       0.62      0.60      0.52       715\n",
      "weighted avg       0.68      0.52      0.51       715\n",
      "\n"
     ]
    }
   ],
   "source": [
    "#Let's run our SVC again with the best parameters.\n",
    "svc2 = SVC(C = 1.2, gamma =  0.1, kernel= 'rbf')\n",
    "svc2.fit(x_train4, y_train4)\n",
    "pred_svc2 = svc2.predict(x_test4)\n",
    "print(classification_report(y_test4, pred_svc2))"
   ]
  },
  {
   "cell_type": "markdown",
   "metadata": {},
   "source": [
    "# M5 Model building process"
   ]
  },
  {
   "cell_type": "markdown",
   "metadata": {},
   "source": [
    "Task: Taking the relevant rows of a patient.Fill missing cells with appropriate value.Choose the most relevant features of the dataset.\n",
    "    and use that to create the ML Model that has highest accuracy"
   ]
  },
  {
   "cell_type": "markdown",
   "metadata": {},
   "source": [
    "# 1. Importing Train/Test Dataset"
   ]
  },
  {
   "cell_type": "code",
   "execution_count": 811,
   "metadata": {},
   "outputs": [],
   "source": [
    "#importing the covid 19 training dataset (in xlsx format)\n",
    "#we are storing our dataset in \"df\" variable to make our job easier.\n",
    "df_train5=pd.read_excel(r'C:\\Users\\Sony\\Desktop\\covid-train-cleaned.xlsx')"
   ]
  },
  {
   "cell_type": "code",
   "execution_count": 812,
   "metadata": {},
   "outputs": [],
   "source": [
    "#importing the covid 19 training dataset (in xlsx format)\n",
    "#we are storing our dataset in \"df\" variable to make our job easier.\n",
    "df_test5=pd.read_excel(r'C:\\Users\\Sony\\Desktop\\covid-test3.xlsx')"
   ]
  },
  {
   "cell_type": "markdown",
   "metadata": {},
   "source": [
    "# 2.Imputation of missing values with appropriate value"
   ]
  },
  {
   "cell_type": "code",
   "execution_count": 813,
   "metadata": {},
   "outputs": [],
   "source": [
    "#removing irrelevant columns from both datasets\n",
    "#dropping columns 'RE_DATE','age' and 'gender' from training dataset\n",
    "df_train5.drop('RE_DATE',axis=1,inplace=True)\n",
    "df_train5.drop('age',axis=1,inplace=True)\n",
    "df_train5.drop('gender',axis=1,inplace=True)"
   ]
  },
  {
   "cell_type": "code",
   "execution_count": 814,
   "metadata": {},
   "outputs": [],
   "source": [
    "#dropping columns 'RE_DATE','Admission time','Discharge time' from test dataset\n",
    "df_test5.drop('RE_DATE',axis=1,inplace=True)\n",
    "df_test5.drop('Admission time',axis=1,inplace=True)\n",
    "df_test5.drop('Discharge time',axis=1,inplace=True)"
   ]
  },
  {
   "cell_type": "code",
   "execution_count": 815,
   "metadata": {},
   "outputs": [
    {
     "data": {
      "text/plain": [
       "PATIENT_ID                           756\n",
       "outcome                                0\n",
       "(%)lymphocyte                        942\n",
       "Lactate dehydrogenase                957\n",
       "Hypersensitive c-reactive protein    993\n",
       "dtype: int64"
      ]
     },
     "execution_count": 815,
     "metadata": {},
     "output_type": "execute_result"
    }
   ],
   "source": [
    "#checking missing values\n",
    "df_train5.isnull().sum()"
   ]
  },
  {
   "cell_type": "code",
   "execution_count": 816,
   "metadata": {},
   "outputs": [
    {
     "data": {
      "text/plain": [
       "PATIENT_ID                           605\n",
       "Lactate dehydrogenase                374\n",
       "Hypersensitive c-reactive protein    445\n",
       "(%)lymphocyte                        361\n",
       "outcome                                0\n",
       "dtype: int64"
      ]
     },
     "execution_count": 816,
     "metadata": {},
     "output_type": "execute_result"
    }
   ],
   "source": [
    "df_test5.isnull().sum()"
   ]
  },
  {
   "cell_type": "markdown",
   "metadata": {},
   "source": [
    "# Model 5 (M5) Missing Values Impution with 'max'"
   ]
  },
  {
   "cell_type": "code",
   "execution_count": 817,
   "metadata": {},
   "outputs": [],
   "source": [
    "df_train5=df_train5.fillna(df_train5.max())"
   ]
  },
  {
   "cell_type": "code",
   "execution_count": 818,
   "metadata": {},
   "outputs": [
    {
     "data": {
      "text/plain": [
       "PATIENT_ID                           0\n",
       "outcome                              0\n",
       "(%)lymphocyte                        0\n",
       "Lactate dehydrogenase                0\n",
       "Hypersensitive c-reactive protein    0\n",
       "dtype: int64"
      ]
     },
     "execution_count": 818,
     "metadata": {},
     "output_type": "execute_result"
    }
   ],
   "source": [
    "df_train5.isnull().sum()"
   ]
  },
  {
   "cell_type": "code",
   "execution_count": 819,
   "metadata": {},
   "outputs": [],
   "source": [
    "df_test5=df_test5.fillna(df_test5.max())"
   ]
  },
  {
   "cell_type": "code",
   "execution_count": 820,
   "metadata": {},
   "outputs": [
    {
     "data": {
      "text/plain": [
       "PATIENT_ID                           0\n",
       "Lactate dehydrogenase                0\n",
       "Hypersensitive c-reactive protein    0\n",
       "(%)lymphocyte                        0\n",
       "outcome                              0\n",
       "dtype: int64"
      ]
     },
     "execution_count": 820,
     "metadata": {},
     "output_type": "execute_result"
    }
   ],
   "source": [
    "df_test5.isnull().sum()"
   ]
  },
  {
   "cell_type": "markdown",
   "metadata": {},
   "source": [
    "# 3.Seperating Input/Output variables"
   ]
  },
  {
   "cell_type": "code",
   "execution_count": 821,
   "metadata": {},
   "outputs": [],
   "source": [
    "'''Learning Features and Predicting Features'''\n",
    "x_train5 = df_train5.drop(['PATIENT_ID','outcome'], axis = 1)\n",
    "y_train5 = df_train5['outcome']"
   ]
  },
  {
   "cell_type": "code",
   "execution_count": 822,
   "metadata": {},
   "outputs": [],
   "source": [
    "'''Learning Features and Predicting Features'''\n",
    "x_test5 = df_test5.drop(['PATIENT_ID','outcome'], axis = 1)\n",
    "y_test5 = df_test5['outcome']"
   ]
  },
  {
   "cell_type": "code",
   "execution_count": 823,
   "metadata": {},
   "outputs": [
    {
     "data": {
      "text/plain": [
       "((1117, 3), (1117,), (715, 3), (715,))"
      ]
     },
     "execution_count": 823,
     "metadata": {},
     "output_type": "execute_result"
    }
   ],
   "source": [
    "x_train5.shape,y_train5.shape,x_test5.shape,y_test5.shape"
   ]
  },
  {
   "cell_type": "markdown",
   "metadata": {},
   "source": [
    "# 4.Applying Standardiztion Technique to get optimized results through Standard Scaler"
   ]
  },
  {
   "cell_type": "code",
   "execution_count": 824,
   "metadata": {},
   "outputs": [],
   "source": [
    "sc = StandardScaler()\n",
    "x_train5=sc.fit_transform(x_train5)\n",
    "x_test5=sc.fit_transform(x_test5)"
   ]
  },
  {
   "cell_type": "markdown",
   "metadata": {},
   "source": [
    "# 5.Model Selection/Building for M5"
   ]
  },
  {
   "cell_type": "markdown",
   "metadata": {},
   "source": [
    "# Support Vector Classifier"
   ]
  },
  {
   "cell_type": "code",
   "execution_count": 825,
   "metadata": {},
   "outputs": [],
   "source": [
    "\n",
    "'''Creating Object of SVM'''\n",
    "from sklearn import svm\n",
    "\n",
    "svmModel = svm.SVC(kernel='rbf', C=1, gamma=100) \n",
    "'''Learning from Training Set'''\n",
    "svmModel.fit(x_train5, y_train5)\n",
    "'''Predicting for Training Set'''\n",
    "y_pred5 = svmModel.predict(x_test5)\n",
    "'''Accuracy Score'''\n",
    "result_acc = accuracy_score(y_test5,y_pred5)"
   ]
  },
  {
   "cell_type": "code",
   "execution_count": 826,
   "metadata": {},
   "outputs": [
    {
     "data": {
      "text/plain": [
       "0.34405594405594403"
      ]
     },
     "execution_count": 826,
     "metadata": {},
     "output_type": "execute_result"
    }
   ],
   "source": [
    "result_acc"
   ]
  },
  {
   "cell_type": "code",
   "execution_count": 827,
   "metadata": {},
   "outputs": [],
   "source": [
    "svc = SVC()\n",
    "svc.fit(x_train5, y_train5)\n",
    "pred_svc = svc.predict(x_test5)"
   ]
  },
  {
   "cell_type": "code",
   "execution_count": 828,
   "metadata": {},
   "outputs": [
    {
     "name": "stdout",
     "output_type": "stream",
     "text": [
      "              precision    recall  f1-score   support\n",
      "\n",
      "           0       0.36      0.10      0.16       469\n",
      "           1       0.28      0.65      0.39       246\n",
      "\n",
      "    accuracy                           0.29       715\n",
      "   macro avg       0.32      0.38      0.27       715\n",
      "weighted avg       0.33      0.29      0.24       715\n",
      "\n"
     ]
    }
   ],
   "source": [
    "print(classification_report(y_test5, pred_svc))"
   ]
  },
  {
   "cell_type": "markdown",
   "metadata": {},
   "source": [
    "# HyperParameter Tuning through GridSearchCV"
   ]
  },
  {
   "cell_type": "code",
   "execution_count": 829,
   "metadata": {},
   "outputs": [],
   "source": [
    "param = {\n",
    "    'C': [0.1,0.8,0.9,1,1.1,1.2,1.3,1.4],\n",
    "    'kernel':['linear', 'rbf'],\n",
    "    'gamma' :[0.1,0.8,0.9,1,1.1,1.2,1.3,1.4]\n",
    "}\n",
    "grid_svc = GridSearchCV(svc, param_grid=param, scoring='accuracy', cv=10)"
   ]
  },
  {
   "cell_type": "code",
   "execution_count": 830,
   "metadata": {},
   "outputs": [
    {
     "data": {
      "text/plain": [
       "GridSearchCV(cv=10, error_score=nan,\n",
       "             estimator=SVC(C=1.0, break_ties=False, cache_size=200,\n",
       "                           class_weight=None, coef0=0.0,\n",
       "                           decision_function_shape='ovr', degree=3,\n",
       "                           gamma='scale', kernel='rbf', max_iter=-1,\n",
       "                           probability=False, random_state=None, shrinking=True,\n",
       "                           tol=0.001, verbose=False),\n",
       "             iid='deprecated', n_jobs=None,\n",
       "             param_grid={'C': [0.1, 0.8, 0.9, 1, 1.1, 1.2, 1.3, 1.4],\n",
       "                         'gamma': [0.1, 0.8, 0.9, 1, 1.1, 1.2, 1.3, 1.4],\n",
       "                         'kernel': ['linear', 'rbf']},\n",
       "             pre_dispatch='2*n_jobs', refit=True, return_train_score=False,\n",
       "             scoring='accuracy', verbose=0)"
      ]
     },
     "execution_count": 830,
     "metadata": {},
     "output_type": "execute_result"
    }
   ],
   "source": [
    "grid_svc.fit(x_train5, y_train5)"
   ]
  },
  {
   "cell_type": "code",
   "execution_count": 831,
   "metadata": {},
   "outputs": [
    {
     "data": {
      "text/plain": [
       "{'C': 0.8, 'gamma': 1, 'kernel': 'rbf'}"
      ]
     },
     "execution_count": 831,
     "metadata": {},
     "output_type": "execute_result"
    }
   ],
   "source": [
    "#Best parameters for our svc model\n",
    "grid_svc.best_params_"
   ]
  },
  {
   "cell_type": "code",
   "execution_count": 845,
   "metadata": {},
   "outputs": [
    {
     "name": "stdout",
     "output_type": "stream",
     "text": [
      "              precision    recall  f1-score   support\n",
      "\n",
      "           0       0.69      0.46      0.55       469\n",
      "           1       0.37      0.60      0.46       246\n",
      "\n",
      "    accuracy                           0.51       715\n",
      "   macro avg       0.53      0.53      0.51       715\n",
      "weighted avg       0.58      0.51      0.52       715\n",
      "\n"
     ]
    }
   ],
   "source": [
    "#Let's run our SVC again with the best parameters.\n",
    "svc2 = SVC(C = 3.1, gamma = .1, kernel= 'rbf')\n",
    "svc2.fit(x_train5, y_train5)\n",
    "pred_svc2 = svc2.predict(x_test5)\n",
    "print(classification_report(y_test5, pred_svc2))"
   ]
  },
  {
   "cell_type": "markdown",
   "metadata": {},
   "source": [
    "# Ensemble Technique-Adaboost Classifier "
   ]
  },
  {
   "cell_type": "code",
   "execution_count": 833,
   "metadata": {},
   "outputs": [
    {
     "data": {
      "text/plain": [
       "0.2853146853146853"
      ]
     },
     "execution_count": 833,
     "metadata": {},
     "output_type": "execute_result"
    }
   ],
   "source": [
    "# AdaBoost Algorithm\n",
    "from sklearn.ensemble import AdaBoostClassifier\n",
    "ada= AdaBoostClassifier()\n",
    "n_estimators = 50 \n",
    "base_estimator = DecisionTreeClassifier \n",
    "ada.fit(x_train5,y_train5)\n",
    "predada = ada.predict(x_test5)\n",
    "metrics.accuracy_score(y_test5, predada)"
   ]
  },
  {
   "cell_type": "markdown",
   "metadata": {},
   "source": [
    "# Best Model Coming is Model 4 (M4) "
   ]
  },
  {
   "cell_type": "markdown",
   "metadata": {},
   "source": [
    "# Storing the predicted results in csv file"
   ]
  },
  {
   "cell_type": "code",
   "execution_count": 834,
   "metadata": {},
   "outputs": [],
   "source": [
    "pred_svm = pd.DataFrame(pred_svc2, columns=['pred_svc2']).to_csv('covid.csv')"
   ]
  },
  {
   "cell_type": "markdown",
   "metadata": {},
   "source": [
    "# Saving the best Model (M4) as a pickle in a file"
   ]
  },
  {
   "cell_type": "code",
   "execution_count": 835,
   "metadata": {},
   "outputs": [],
   "source": [
    "from sklearn.externals import joblib"
   ]
  },
  {
   "cell_type": "code",
   "execution_count": 836,
   "metadata": {},
   "outputs": [
    {
     "data": {
      "text/plain": [
       "['covid.pkl']"
      ]
     },
     "execution_count": 836,
     "metadata": {},
     "output_type": "execute_result"
    }
   ],
   "source": [
    "joblib.dump(svc2,'covid.pkl')"
   ]
  },
  {
   "cell_type": "code",
   "execution_count": null,
   "metadata": {},
   "outputs": [],
   "source": []
  }
 ],
 "metadata": {
  "kernelspec": {
   "display_name": "Python 3",
   "language": "python",
   "name": "python3"
  },
  "language_info": {
   "codemirror_mode": {
    "name": "ipython",
    "version": 3
   },
   "file_extension": ".py",
   "mimetype": "text/x-python",
   "name": "python",
   "nbconvert_exporter": "python",
   "pygments_lexer": "ipython3",
   "version": "3.7.6"
  }
 },
 "nbformat": 4,
 "nbformat_minor": 4
}

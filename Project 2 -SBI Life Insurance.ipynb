{
 "cells": [
  {
   "cell_type": "markdown",
   "metadata": {},
   "source": [
    "# Importing Libraries and Modules"
   ]
  },
  {
   "cell_type": "code",
   "execution_count": 1,
   "metadata": {},
   "outputs": [],
   "source": [
    "import pandas as pd\n",
    "import numpy as np\n",
    "import matplotlib.pyplot as plt\n",
    "import warnings\n",
    "warnings.filterwarnings('ignore')\n",
    "import seaborn as sns\n",
    "%matplotlib inline\n",
    "from sklearn.ensemble import RandomForestClassifier\n",
    "from sklearn.svm import SVC\n",
    "from sklearn.linear_model import SGDClassifier\n",
    "from sklearn.metrics import confusion_matrix, classification_report\n",
    "from sklearn.preprocessing import StandardScaler, LabelEncoder\n",
    "from sklearn.model_selection import train_test_split, GridSearchCV, cross_val_score\n"
   ]
  },
  {
   "cell_type": "markdown",
   "metadata": {},
   "source": [
    "# Importing the SBI Life Insurance Dataset"
   ]
  },
  {
   "cell_type": "code",
   "execution_count": 2,
   "metadata": {},
   "outputs": [],
   "source": [
    "#importing the red wine dataset (in csv format)\n",
    "#we are storing our dataset in \"df\" variable to make our job easier.\n",
    "df=pd.read_csv('SBI-Life.csv')"
   ]
  },
  {
   "cell_type": "markdown",
   "metadata": {},
   "source": [
    "We have successfully loaded the Dataset and stored it in variable \"df\""
   ]
  },
  {
   "cell_type": "markdown",
   "metadata": {},
   "source": [
    "# More Data Exploration"
   ]
  },
  {
   "cell_type": "code",
   "execution_count": 3,
   "metadata": {},
   "outputs": [
    {
     "data": {
      "text/html": [
       "<div>\n",
       "<style scoped>\n",
       "    .dataframe tbody tr th:only-of-type {\n",
       "        vertical-align: middle;\n",
       "    }\n",
       "\n",
       "    .dataframe tbody tr th {\n",
       "        vertical-align: top;\n",
       "    }\n",
       "\n",
       "    .dataframe thead th {\n",
       "        text-align: right;\n",
       "    }\n",
       "</style>\n",
       "<table border=\"1\" class=\"dataframe\">\n",
       "  <thead>\n",
       "    <tr style=\"text-align: right;\">\n",
       "      <th></th>\n",
       "      <th>age</th>\n",
       "      <th>sex</th>\n",
       "      <th>bmi</th>\n",
       "      <th>children</th>\n",
       "      <th>smoker</th>\n",
       "      <th>region</th>\n",
       "      <th>charges</th>\n",
       "      <th>insuranceclaim</th>\n",
       "    </tr>\n",
       "  </thead>\n",
       "  <tbody>\n",
       "    <tr>\n",
       "      <th>0</th>\n",
       "      <td>19</td>\n",
       "      <td>0</td>\n",
       "      <td>27.900</td>\n",
       "      <td>0</td>\n",
       "      <td>1</td>\n",
       "      <td>3</td>\n",
       "      <td>16884.92400</td>\n",
       "      <td>1</td>\n",
       "    </tr>\n",
       "    <tr>\n",
       "      <th>1</th>\n",
       "      <td>18</td>\n",
       "      <td>1</td>\n",
       "      <td>33.770</td>\n",
       "      <td>1</td>\n",
       "      <td>0</td>\n",
       "      <td>2</td>\n",
       "      <td>1725.55230</td>\n",
       "      <td>1</td>\n",
       "    </tr>\n",
       "    <tr>\n",
       "      <th>2</th>\n",
       "      <td>28</td>\n",
       "      <td>1</td>\n",
       "      <td>33.000</td>\n",
       "      <td>3</td>\n",
       "      <td>0</td>\n",
       "      <td>2</td>\n",
       "      <td>4449.46200</td>\n",
       "      <td>0</td>\n",
       "    </tr>\n",
       "    <tr>\n",
       "      <th>3</th>\n",
       "      <td>33</td>\n",
       "      <td>1</td>\n",
       "      <td>22.705</td>\n",
       "      <td>0</td>\n",
       "      <td>0</td>\n",
       "      <td>1</td>\n",
       "      <td>21984.47061</td>\n",
       "      <td>0</td>\n",
       "    </tr>\n",
       "    <tr>\n",
       "      <th>4</th>\n",
       "      <td>32</td>\n",
       "      <td>1</td>\n",
       "      <td>28.880</td>\n",
       "      <td>0</td>\n",
       "      <td>0</td>\n",
       "      <td>1</td>\n",
       "      <td>3866.85520</td>\n",
       "      <td>1</td>\n",
       "    </tr>\n",
       "  </tbody>\n",
       "</table>\n",
       "</div>"
      ],
      "text/plain": [
       "   age  sex     bmi  children  smoker  region      charges  insuranceclaim\n",
       "0   19    0  27.900         0       1       3  16884.92400               1\n",
       "1   18    1  33.770         1       0       2   1725.55230               1\n",
       "2   28    1  33.000         3       0       2   4449.46200               0\n",
       "3   33    1  22.705         0       0       1  21984.47061               0\n",
       "4   32    1  28.880         0       0       1   3866.85520               1"
      ]
     },
     "execution_count": 3,
     "metadata": {},
     "output_type": "execute_result"
    }
   ],
   "source": [
    "'''checking the first five rows of the Dataset to get the overview of the overall Data'''\n",
    "\n",
    "df.head()"
   ]
  },
  {
   "cell_type": "markdown",
   "metadata": {},
   "source": [
    "We can see from above Data  few points--\n",
    "\n",
    "1. in column 'sex'\n",
    "\n",
    "   0 =Female\n",
    "   1 =Male\n",
    "    \n",
    "2. in 'smoker' column--\n",
    "   \n",
    "   0 =Non Smoker\n",
    "   1 =Smoker\n",
    "    \n",
    "3. in 'insuranceclaim' column--\n",
    "\n",
    "   0 =No\n",
    "   1 =yes\n",
    "    \n"
   ]
  },
  {
   "cell_type": "markdown",
   "metadata": {},
   "source": [
    "Lets check for the number of rows and columns of the given Dataset"
   ]
  },
  {
   "cell_type": "code",
   "execution_count": 4,
   "metadata": {},
   "outputs": [
    {
     "data": {
      "text/plain": [
       "(1338, 8)"
      ]
     },
     "execution_count": 4,
     "metadata": {},
     "output_type": "execute_result"
    }
   ],
   "source": [
    "df.shape"
   ]
  },
  {
   "cell_type": "markdown",
   "metadata": {},
   "source": [
    "This Dataset contains 1338 rows and 8 columns"
   ]
  },
  {
   "cell_type": "markdown",
   "metadata": {},
   "source": [
    "Now to to get clear view of the Data lets see the names of the columns and differenciate between \n",
    "\n",
    "Target Variable and Input Variables"
   ]
  },
  {
   "cell_type": "code",
   "execution_count": 5,
   "metadata": {},
   "outputs": [
    {
     "data": {
      "text/plain": [
       "Index(['age', 'sex', 'bmi', 'children', 'smoker', 'region', 'charges',\n",
       "       'insuranceclaim'],\n",
       "      dtype='object')"
      ]
     },
     "execution_count": 5,
     "metadata": {},
     "output_type": "execute_result"
    }
   ],
   "source": [
    "df.columns"
   ]
  },
  {
   "cell_type": "markdown",
   "metadata": {},
   "source": [
    "From above output we have observed that --\n",
    "\n",
    "Target Variable=== 'insuranceclaim'\n",
    "\n",
    "Rest all are input variables."
   ]
  },
  {
   "cell_type": "markdown",
   "metadata": {},
   "source": [
    "Now lets check the Datatypes of the valaus of each column"
   ]
  },
  {
   "cell_type": "code",
   "execution_count": 6,
   "metadata": {},
   "outputs": [
    {
     "data": {
      "text/plain": [
       "age                 int64\n",
       "sex                 int64\n",
       "bmi               float64\n",
       "children            int64\n",
       "smoker              int64\n",
       "region              int64\n",
       "charges           float64\n",
       "insuranceclaim      int64\n",
       "dtype: object"
      ]
     },
     "execution_count": 6,
     "metadata": {},
     "output_type": "execute_result"
    }
   ],
   "source": [
    "df.dtypes"
   ]
  },
  {
   "cell_type": "markdown",
   "metadata": {},
   "source": [
    "From above output we observe following points---\n",
    "\n",
    "1. All variable are of Numeric Type\n",
    "\n",
    "2. Variables \"sex\",\"smoker\" and \"insurancetype\" are categotical variables.\n",
    "\n",
    "3. Target variable is a Classification Variable."
   ]
  },
  {
   "cell_type": "markdown",
   "metadata": {},
   "source": [
    "# Checking Missing Values "
   ]
  },
  {
   "cell_type": "markdown",
   "metadata": {},
   "source": [
    "from above output,it is clearly visible that all the values of each column are either float type-- or integer type. one thing to be noticed here is that only output variable is in integer type ,all other variables-- --are in float type. Now lets check for sum of the missing values in each column-->"
   ]
  },
  {
   "cell_type": "markdown",
   "metadata": {},
   "source": [
    "Now lets check for the missing values in the Dataset"
   ]
  },
  {
   "cell_type": "code",
   "execution_count": 7,
   "metadata": {},
   "outputs": [
    {
     "data": {
      "text/plain": [
       "age               0\n",
       "sex               0\n",
       "bmi               0\n",
       "children          0\n",
       "smoker            0\n",
       "region            0\n",
       "charges           0\n",
       "insuranceclaim    0\n",
       "dtype: int64"
      ]
     },
     "execution_count": 7,
     "metadata": {},
     "output_type": "execute_result"
    }
   ],
   "source": [
    "df.isnull().sum()"
   ]
  },
  {
   "cell_type": "markdown",
   "metadata": {},
   "source": [
    "Fortunately we have no null values in the Dataset.Our job is easier somewhat...isn't?"
   ]
  },
  {
   "cell_type": "markdown",
   "metadata": {},
   "source": [
    "# Statistical Summary of the Dataset"
   ]
  },
  {
   "cell_type": "markdown",
   "metadata": {},
   "source": [
    "now lets see the summary of the statistics of the dataset pertaining to the dataset columns, \n",
    "\n",
    "like mean,median,mode,standard deviation and IQR values. as the whole dataset is numeric so \n",
    "\n",
    "no need to worry for the dropping of any column as below function- --only works on numerical data."
   ]
  },
  {
   "cell_type": "code",
   "execution_count": 8,
   "metadata": {},
   "outputs": [
    {
     "data": {
      "text/html": [
       "<div>\n",
       "<style scoped>\n",
       "    .dataframe tbody tr th:only-of-type {\n",
       "        vertical-align: middle;\n",
       "    }\n",
       "\n",
       "    .dataframe tbody tr th {\n",
       "        vertical-align: top;\n",
       "    }\n",
       "\n",
       "    .dataframe thead th {\n",
       "        text-align: right;\n",
       "    }\n",
       "</style>\n",
       "<table border=\"1\" class=\"dataframe\">\n",
       "  <thead>\n",
       "    <tr style=\"text-align: right;\">\n",
       "      <th></th>\n",
       "      <th>age</th>\n",
       "      <th>sex</th>\n",
       "      <th>bmi</th>\n",
       "      <th>children</th>\n",
       "      <th>smoker</th>\n",
       "      <th>region</th>\n",
       "      <th>charges</th>\n",
       "      <th>insuranceclaim</th>\n",
       "    </tr>\n",
       "  </thead>\n",
       "  <tbody>\n",
       "    <tr>\n",
       "      <th>count</th>\n",
       "      <td>1338.000000</td>\n",
       "      <td>1338.000000</td>\n",
       "      <td>1338.000000</td>\n",
       "      <td>1338.000000</td>\n",
       "      <td>1338.000000</td>\n",
       "      <td>1338.000000</td>\n",
       "      <td>1338.000000</td>\n",
       "      <td>1338.000000</td>\n",
       "    </tr>\n",
       "    <tr>\n",
       "      <th>mean</th>\n",
       "      <td>39.207025</td>\n",
       "      <td>0.505232</td>\n",
       "      <td>30.663397</td>\n",
       "      <td>1.094918</td>\n",
       "      <td>0.204783</td>\n",
       "      <td>1.515695</td>\n",
       "      <td>13270.422265</td>\n",
       "      <td>0.585202</td>\n",
       "    </tr>\n",
       "    <tr>\n",
       "      <th>std</th>\n",
       "      <td>14.049960</td>\n",
       "      <td>0.500160</td>\n",
       "      <td>6.098187</td>\n",
       "      <td>1.205493</td>\n",
       "      <td>0.403694</td>\n",
       "      <td>1.104885</td>\n",
       "      <td>12110.011237</td>\n",
       "      <td>0.492871</td>\n",
       "    </tr>\n",
       "    <tr>\n",
       "      <th>min</th>\n",
       "      <td>18.000000</td>\n",
       "      <td>0.000000</td>\n",
       "      <td>15.960000</td>\n",
       "      <td>0.000000</td>\n",
       "      <td>0.000000</td>\n",
       "      <td>0.000000</td>\n",
       "      <td>1121.873900</td>\n",
       "      <td>0.000000</td>\n",
       "    </tr>\n",
       "    <tr>\n",
       "      <th>25%</th>\n",
       "      <td>27.000000</td>\n",
       "      <td>0.000000</td>\n",
       "      <td>26.296250</td>\n",
       "      <td>0.000000</td>\n",
       "      <td>0.000000</td>\n",
       "      <td>1.000000</td>\n",
       "      <td>4740.287150</td>\n",
       "      <td>0.000000</td>\n",
       "    </tr>\n",
       "    <tr>\n",
       "      <th>50%</th>\n",
       "      <td>39.000000</td>\n",
       "      <td>1.000000</td>\n",
       "      <td>30.400000</td>\n",
       "      <td>1.000000</td>\n",
       "      <td>0.000000</td>\n",
       "      <td>2.000000</td>\n",
       "      <td>9382.033000</td>\n",
       "      <td>1.000000</td>\n",
       "    </tr>\n",
       "    <tr>\n",
       "      <th>75%</th>\n",
       "      <td>51.000000</td>\n",
       "      <td>1.000000</td>\n",
       "      <td>34.693750</td>\n",
       "      <td>2.000000</td>\n",
       "      <td>0.000000</td>\n",
       "      <td>2.000000</td>\n",
       "      <td>16639.912515</td>\n",
       "      <td>1.000000</td>\n",
       "    </tr>\n",
       "    <tr>\n",
       "      <th>max</th>\n",
       "      <td>64.000000</td>\n",
       "      <td>1.000000</td>\n",
       "      <td>53.130000</td>\n",
       "      <td>5.000000</td>\n",
       "      <td>1.000000</td>\n",
       "      <td>3.000000</td>\n",
       "      <td>63770.428010</td>\n",
       "      <td>1.000000</td>\n",
       "    </tr>\n",
       "  </tbody>\n",
       "</table>\n",
       "</div>"
      ],
      "text/plain": [
       "               age          sex          bmi     children       smoker  \\\n",
       "count  1338.000000  1338.000000  1338.000000  1338.000000  1338.000000   \n",
       "mean     39.207025     0.505232    30.663397     1.094918     0.204783   \n",
       "std      14.049960     0.500160     6.098187     1.205493     0.403694   \n",
       "min      18.000000     0.000000    15.960000     0.000000     0.000000   \n",
       "25%      27.000000     0.000000    26.296250     0.000000     0.000000   \n",
       "50%      39.000000     1.000000    30.400000     1.000000     0.000000   \n",
       "75%      51.000000     1.000000    34.693750     2.000000     0.000000   \n",
       "max      64.000000     1.000000    53.130000     5.000000     1.000000   \n",
       "\n",
       "            region       charges  insuranceclaim  \n",
       "count  1338.000000   1338.000000     1338.000000  \n",
       "mean      1.515695  13270.422265        0.585202  \n",
       "std       1.104885  12110.011237        0.492871  \n",
       "min       0.000000   1121.873900        0.000000  \n",
       "25%       1.000000   4740.287150        0.000000  \n",
       "50%       2.000000   9382.033000        1.000000  \n",
       "75%       2.000000  16639.912515        1.000000  \n",
       "max       3.000000  63770.428010        1.000000  "
      ]
     },
     "execution_count": 8,
     "metadata": {},
     "output_type": "execute_result"
    }
   ],
   "source": [
    "df.describe()"
   ]
  },
  {
   "cell_type": "markdown",
   "metadata": {},
   "source": [
    "# Outliers Detection"
   ]
  },
  {
   "cell_type": "markdown",
   "metadata": {},
   "source": [
    "plotting the Boxplot for detecting the outliers present in Dataset"
   ]
  },
  {
   "cell_type": "code",
   "execution_count": 9,
   "metadata": {},
   "outputs": [
    {
     "data": {
      "text/plain": [
       "Index(['age', 'sex', 'bmi', 'children', 'smoker', 'region', 'charges',\n",
       "       'insuranceclaim'],\n",
       "      dtype='object')"
      ]
     },
     "execution_count": 9,
     "metadata": {},
     "output_type": "execute_result"
    }
   ],
   "source": [
    "df.columns"
   ]
  },
  {
   "cell_type": "markdown",
   "metadata": {},
   "source": [
    "from the statistical summary of the Dataset we can observe that the difference between mean and max \n",
    "\n",
    "values is not very high except for the column 'charges'.\n",
    "\n",
    "it means 'charges' have high chances of being the Outliers present in it.\n",
    "\n",
    "Lets check ir through boxplot visualization"
   ]
  },
  {
   "cell_type": "code",
   "execution_count": 16,
   "metadata": {},
   "outputs": [
    {
     "data": {
      "text/plain": [
       "<matplotlib.axes._subplots.AxesSubplot at 0x2010fffd518>"
      ]
     },
     "execution_count": 16,
     "metadata": {},
     "output_type": "execute_result"
    },
    {
     "data": {
      "image/png": "[encoded data removed]",
      "text/plain": [
       "<Figure size 432x288 with 1 Axes>"
      ]
     },
     "metadata": {},
     "output_type": "display_data"
    }
   ],
   "source": [
    "sns.boxplot(df.charges)"
   ]
  },
  {
   "cell_type": "markdown",
   "metadata": {},
   "source": [
    "From above graph it can be observe that 'charges' have outliers.\n"
   ]
  },
  {
   "cell_type": "markdown",
   "metadata": {},
   "source": [
    "# Removing Outliers from the Data"
   ]
  },
  {
   "cell_type": "markdown",
   "metadata": {},
   "source": [
    "The distribution plot of the count values reveals that the count values do not match a normal\n",
    "distribution. We will use the median and interquartile range (IQR) to identify and remove outliers \n",
    "from the data. (An alternative approach would be the transformation of the target values to a normal\n",
    "distribution and using mean and standard deviation)"
   ]
  },
  {
   "cell_type": "code",
   "execution_count": 18,
   "metadata": {},
   "outputs": [
    {
     "name": "stdout",
     "output_type": "stream",
     "text": [
      "Samples in dataset with outliers: 1338\n",
      "Samples in dataset without outliers: 1199\n"
     ]
    },
    {
     "data": {
      "image/png": "[encoded data removed]",
      "text/plain": [
       "<Figure size 432x288 with 1 Axes>"
      ]
     },
     "metadata": {},
     "output_type": "display_data"
    }
   ],
   "source": [
    "print(\"Samples in dataset with outliers: {}\".format(len(df)))\n",
    "q1 = df.charges.quantile(0.25)\n",
    "q3 = df.charges.quantile(0.75)\n",
    "iqr = q3 - q1\n",
    "lower_bound = q1 -(1.5 * iqr) \n",
    "upper_bound = q3 +(1.5 * iqr) \n",
    "df_preprocessed = df.loc[(df.charges >= lower_bound) & (df.charges <= upper_bound)]\n",
    "print(\"Samples in dataset without outliers: {}\".format(len(df_preprocessed)))\n",
    "sns.boxplot(df_preprocessed.charges);"
   ]
  },
  {
   "cell_type": "markdown",
   "metadata": {},
   "source": [
    "# Checking the Skewness of the Data"
   ]
  },
  {
   "cell_type": "code",
   "execution_count": 21,
   "metadata": {},
   "outputs": [
    {
     "data": {
      "text/plain": [
       "array([[<matplotlib.axes._subplots.AxesSubplot object at 0x000002010EC28160>,\n",
       "        <matplotlib.axes._subplots.AxesSubplot object at 0x000002010ED074E0>,\n",
       "        <matplotlib.axes._subplots.AxesSubplot object at 0x000002010ED30E10>,\n",
       "        <matplotlib.axes._subplots.AxesSubplot object at 0x000002010ED677F0>],\n",
       "       [<matplotlib.axes._subplots.AxesSubplot object at 0x000002010ED9E1D0>,\n",
       "        <matplotlib.axes._subplots.AxesSubplot object at 0x000002010FF55B70>,\n",
       "        <matplotlib.axes._subplots.AxesSubplot object at 0x000002010EC091D0>,\n",
       "        <matplotlib.axes._subplots.AxesSubplot object at 0x000002010EBA3E48>],\n",
       "       [<matplotlib.axes._subplots.AxesSubplot object at 0x000002010EBA34A8>,\n",
       "        <matplotlib.axes._subplots.AxesSubplot object at 0x000002010EBDE320>,\n",
       "        <matplotlib.axes._subplots.AxesSubplot object at 0x000002010EB85CC0>,\n",
       "        <matplotlib.axes._subplots.AxesSubplot object at 0x00000201100B66A0>]],\n",
       "      dtype=object)"
      ]
     },
     "execution_count": 21,
     "metadata": {},
     "output_type": "execute_result"
    },
    {
     "data": {
      "image/png": "[encoded data removed]",
      "text/plain": [
       "<Figure size 1440x1440 with 12 Axes>"
      ]
     },
     "metadata": {},
     "output_type": "display_data"
    }
   ],
   "source": [
    "df.hist(figsize=(20,20), grid = True, layout = (3,4), bins = 30)"
   ]
  },
  {
   "cell_type": "markdown",
   "metadata": {},
   "source": [
    "# Correlation Analysis"
   ]
  },
  {
   "cell_type": "code",
   "execution_count": 20,
   "metadata": {},
   "outputs": [
    {
     "data": {
      "text/html": [
       "<div>\n",
       "<style scoped>\n",
       "    .dataframe tbody tr th:only-of-type {\n",
       "        vertical-align: middle;\n",
       "    }\n",
       "\n",
       "    .dataframe tbody tr th {\n",
       "        vertical-align: top;\n",
       "    }\n",
       "\n",
       "    .dataframe thead th {\n",
       "        text-align: right;\n",
       "    }\n",
       "</style>\n",
       "<table border=\"1\" class=\"dataframe\">\n",
       "  <thead>\n",
       "    <tr style=\"text-align: right;\">\n",
       "      <th></th>\n",
       "      <th>age</th>\n",
       "      <th>sex</th>\n",
       "      <th>bmi</th>\n",
       "      <th>children</th>\n",
       "      <th>smoker</th>\n",
       "      <th>region</th>\n",
       "      <th>charges</th>\n",
       "      <th>insuranceclaim</th>\n",
       "    </tr>\n",
       "  </thead>\n",
       "  <tbody>\n",
       "    <tr>\n",
       "      <th>age</th>\n",
       "      <td>1.000000</td>\n",
       "      <td>-0.020856</td>\n",
       "      <td>0.109272</td>\n",
       "      <td>0.042469</td>\n",
       "      <td>-0.025019</td>\n",
       "      <td>0.002127</td>\n",
       "      <td>0.299008</td>\n",
       "      <td>0.113723</td>\n",
       "    </tr>\n",
       "    <tr>\n",
       "      <th>sex</th>\n",
       "      <td>-0.020856</td>\n",
       "      <td>1.000000</td>\n",
       "      <td>0.046371</td>\n",
       "      <td>0.017163</td>\n",
       "      <td>0.076185</td>\n",
       "      <td>0.004588</td>\n",
       "      <td>0.057292</td>\n",
       "      <td>0.031565</td>\n",
       "    </tr>\n",
       "    <tr>\n",
       "      <th>bmi</th>\n",
       "      <td>0.109272</td>\n",
       "      <td>0.046371</td>\n",
       "      <td>1.000000</td>\n",
       "      <td>0.012759</td>\n",
       "      <td>0.003750</td>\n",
       "      <td>0.157566</td>\n",
       "      <td>0.198341</td>\n",
       "      <td>0.384198</td>\n",
       "    </tr>\n",
       "    <tr>\n",
       "      <th>children</th>\n",
       "      <td>0.042469</td>\n",
       "      <td>0.017163</td>\n",
       "      <td>0.012759</td>\n",
       "      <td>1.000000</td>\n",
       "      <td>0.007673</td>\n",
       "      <td>0.016569</td>\n",
       "      <td>0.067998</td>\n",
       "      <td>-0.409526</td>\n",
       "    </tr>\n",
       "    <tr>\n",
       "      <th>smoker</th>\n",
       "      <td>-0.025019</td>\n",
       "      <td>0.076185</td>\n",
       "      <td>0.003750</td>\n",
       "      <td>0.007673</td>\n",
       "      <td>1.000000</td>\n",
       "      <td>-0.002181</td>\n",
       "      <td>0.787251</td>\n",
       "      <td>0.333261</td>\n",
       "    </tr>\n",
       "    <tr>\n",
       "      <th>region</th>\n",
       "      <td>0.002127</td>\n",
       "      <td>0.004588</td>\n",
       "      <td>0.157566</td>\n",
       "      <td>0.016569</td>\n",
       "      <td>-0.002181</td>\n",
       "      <td>1.000000</td>\n",
       "      <td>-0.006208</td>\n",
       "      <td>0.020891</td>\n",
       "    </tr>\n",
       "    <tr>\n",
       "      <th>charges</th>\n",
       "      <td>0.299008</td>\n",
       "      <td>0.057292</td>\n",
       "      <td>0.198341</td>\n",
       "      <td>0.067998</td>\n",
       "      <td>0.787251</td>\n",
       "      <td>-0.006208</td>\n",
       "      <td>1.000000</td>\n",
       "      <td>0.309418</td>\n",
       "    </tr>\n",
       "    <tr>\n",
       "      <th>insuranceclaim</th>\n",
       "      <td>0.113723</td>\n",
       "      <td>0.031565</td>\n",
       "      <td>0.384198</td>\n",
       "      <td>-0.409526</td>\n",
       "      <td>0.333261</td>\n",
       "      <td>0.020891</td>\n",
       "      <td>0.309418</td>\n",
       "      <td>1.000000</td>\n",
       "    </tr>\n",
       "  </tbody>\n",
       "</table>\n",
       "</div>"
      ],
      "text/plain": [
       "                     age       sex       bmi  children    smoker    region  \\\n",
       "age             1.000000 -0.020856  0.109272  0.042469 -0.025019  0.002127   \n",
       "sex            -0.020856  1.000000  0.046371  0.017163  0.076185  0.004588   \n",
       "bmi             0.109272  0.046371  1.000000  0.012759  0.003750  0.157566   \n",
       "children        0.042469  0.017163  0.012759  1.000000  0.007673  0.016569   \n",
       "smoker         -0.025019  0.076185  0.003750  0.007673  1.000000 -0.002181   \n",
       "region          0.002127  0.004588  0.157566  0.016569 -0.002181  1.000000   \n",
       "charges         0.299008  0.057292  0.198341  0.067998  0.787251 -0.006208   \n",
       "insuranceclaim  0.113723  0.031565  0.384198 -0.409526  0.333261  0.020891   \n",
       "\n",
       "                 charges  insuranceclaim  \n",
       "age             0.299008        0.113723  \n",
       "sex             0.057292        0.031565  \n",
       "bmi             0.198341        0.384198  \n",
       "children        0.067998       -0.409526  \n",
       "smoker          0.787251        0.333261  \n",
       "region         -0.006208        0.020891  \n",
       "charges         1.000000        0.309418  \n",
       "insuranceclaim  0.309418        1.000000  "
      ]
     },
     "execution_count": 20,
     "metadata": {},
     "output_type": "execute_result"
    }
   ],
   "source": [
    "df.corr()"
   ]
  },
  {
   "cell_type": "code",
   "execution_count": 22,
   "metadata": {},
   "outputs": [
    {
     "data": {
      "text/plain": [
       "<matplotlib.axes._subplots.AxesSubplot at 0x201120262e8>"
      ]
     },
     "execution_count": 22,
     "metadata": {},
     "output_type": "execute_result"
    },
    {
     "data": {
      "image/png": "[encoded data removed]",
      "text/plain": [
       "<Figure size 864x360 with 2 Axes>"
      ]
     },
     "metadata": {},
     "output_type": "display_data"
    }
   ],
   "source": [
    "correlation = df.corr()\n",
    "plt.figure(figsize=(12, 5))\n",
    "sns.heatmap(correlation, annot=True, linewidths=0, vmin=-1, cmap=\"RdBu_r\")"
   ]
  },
  {
   "cell_type": "code",
   "execution_count": 23,
   "metadata": {},
   "outputs": [
    {
     "data": {
      "text/plain": [
       "insuranceclaim    1.000000\n",
       "bmi               0.384198\n",
       "smoker            0.333261\n",
       "charges           0.309418\n",
       "age               0.113723\n",
       "sex               0.031565\n",
       "region            0.020891\n",
       "children         -0.409526\n",
       "Name: insuranceclaim, dtype: float64"
      ]
     },
     "execution_count": 23,
     "metadata": {},
     "output_type": "execute_result"
    }
   ],
   "source": [
    "correlation['insuranceclaim'].sort_values(ascending=False)"
   ]
  },
  {
   "cell_type": "markdown",
   "metadata": {},
   "source": [
    "we can see that variables \"bmi\",\"smoker\",\"charges\",\"age\" are having good correlation with target variable\n",
    "\n",
    "\"insuranceclaim\""
   ]
  },
  {
   "cell_type": "markdown",
   "metadata": {},
   "source": [
    "# Univariate and Bivariate Analysis"
   ]
  },
  {
   "cell_type": "markdown",
   "metadata": {},
   "source": [
    "Let's check how many unique values does the target feature 'insuranceclaim' has?"
   ]
  },
  {
   "cell_type": "code",
   "execution_count": 25,
   "metadata": {},
   "outputs": [
    {
     "data": {
      "text/plain": [
       "array([1, 0], dtype=int64)"
      ]
     },
     "execution_count": 25,
     "metadata": {},
     "output_type": "execute_result"
    }
   ],
   "source": [
    "df[\"insuranceclaim\"].unique()"
   ]
  },
  {
   "cell_type": "markdown",
   "metadata": {},
   "source": [
    "And how data is distributed among those values?"
   ]
  },
  {
   "cell_type": "code",
   "execution_count": 26,
   "metadata": {},
   "outputs": [
    {
     "data": {
      "text/plain": [
       "0    555\n",
       "1    783\n",
       "Name: insuranceclaim, dtype: int64"
      ]
     },
     "execution_count": 26,
     "metadata": {},
     "output_type": "execute_result"
    }
   ],
   "source": [
    "df.insuranceclaim.value_counts().sort_index()"
   ]
  },
  {
   "cell_type": "code",
   "execution_count": 27,
   "metadata": {},
   "outputs": [
    {
     "data": {
      "text/plain": [
       "<matplotlib.axes._subplots.AxesSubplot at 0x20111a4cbe0>"
      ]
     },
     "execution_count": 27,
     "metadata": {},
     "output_type": "execute_result"
    },
    {
     "data": {
      "image/png": "[encoded data removed]",
      "text/plain": [
       "<Figure size 432x288 with 1 Axes>"
      ]
     },
     "metadata": {},
     "output_type": "display_data"
    }
   ],
   "source": [
    "#plotting the graph for visualizing better the distribution of \"insuranceclaim\" variable.\n",
    "sns.countplot(x='insuranceclaim', data=df)"
   ]
  },
  {
   "cell_type": "markdown",
   "metadata": {},
   "source": [
    "The above graph shows people with insurance claim are more than non insurance claim"
   ]
  },
  {
   "cell_type": "code",
   "execution_count": 30,
   "metadata": {},
   "outputs": [
    {
     "data": {
      "text/plain": [
       "<matplotlib.axes._subplots.AxesSubplot at 0x201118e7f60>"
      ]
     },
     "execution_count": 30,
     "metadata": {},
     "output_type": "execute_result"
    },
    {
     "data": {
      "image/png": "[encoded data removed]",
      "text/plain": [
       "<Figure size 720x432 with 1 Axes>"
      ]
     },
     "metadata": {},
     "output_type": "display_data"
    }
   ],
   "source": [
    "fig = plt.figure(figsize = (10,6))\n",
    "sns.violinplot(x = 'insuranceclaim', y = 'bmi', data = df)"
   ]
  },
  {
   "cell_type": "markdown",
   "metadata": {},
   "source": [
    "From above graph we can see that people with higher bmi tends to take more insurance claim"
   ]
  },
  {
   "cell_type": "code",
   "execution_count": 35,
   "metadata": {},
   "outputs": [
    {
     "data": {
      "text/plain": [
       "<matplotlib.axes._subplots.AxesSubplot at 0x20111d9d588>"
      ]
     },
     "execution_count": 35,
     "metadata": {},
     "output_type": "execute_result"
    },
    {
     "data": {
      "image/png": "[encoded data removed]",
      "text/plain": [
       "<Figure size 720x432 with 1 Axes>"
      ]
     },
     "metadata": {},
     "output_type": "display_data"
    }
   ],
   "source": [
    "fig = plt.figure(figsize = (10,6))\n",
    "sns.lineplot(x = 'insuranceclaim', y = 'smoker', data = df)"
   ]
  },
  {
   "cell_type": "markdown",
   "metadata": {},
   "source": [
    "We can observe from above chart is that higher the smoking probability higher would be chances of\n",
    "\n",
    "insurance claim"
   ]
  },
  {
   "cell_type": "code",
   "execution_count": 38,
   "metadata": {},
   "outputs": [
    {
     "data": {
      "text/plain": [
       "<matplotlib.axes._subplots.AxesSubplot at 0x201118ff780>"
      ]
     },
     "execution_count": 38,
     "metadata": {},
     "output_type": "execute_result"
    },
    {
     "data": {
      "image/png": "[encoded data removed]",
      "text/plain": [
       "<Figure size 720x432 with 1 Axes>"
      ]
     },
     "metadata": {},
     "output_type": "display_data"
    }
   ],
   "source": [
    "fig = plt.figure(figsize = (10,6))\n",
    "sns.countplot(x = 'sex', data = df)"
   ]
  },
  {
   "cell_type": "markdown",
   "metadata": {},
   "source": [
    "From above chart it is clear that there is not difference for females or males in insurance claimimg."
   ]
  },
  {
   "cell_type": "code",
   "execution_count": 42,
   "metadata": {},
   "outputs": [
    {
     "data": {
      "text/plain": [
       "<matplotlib.axes._subplots.AxesSubplot at 0x2011373c198>"
      ]
     },
     "execution_count": 42,
     "metadata": {},
     "output_type": "execute_result"
    },
    {
     "data": {
      "image/png": "[encoded data removed]",
      "text/plain": [
       "<Figure size 720x432 with 1 Axes>"
      ]
     },
     "metadata": {},
     "output_type": "display_data"
    }
   ],
   "source": [
    "fig = plt.figure(figsize = (10,6))\n",
    "sns.lineplot(x = 'insuranceclaim', y = 'children', data = df)"
   ]
  },
  {
   "cell_type": "markdown",
   "metadata": {},
   "source": [
    "We can see from above graph that we are having negative correlation between number of children and\n",
    "\n",
    "insurance claims"
   ]
  },
  {
   "cell_type": "code",
   "execution_count": 43,
   "metadata": {},
   "outputs": [
    {
     "data": {
      "text/plain": [
       "<matplotlib.axes._subplots.AxesSubplot at 0x201125fd9e8>"
      ]
     },
     "execution_count": 43,
     "metadata": {},
     "output_type": "execute_result"
    },
    {
     "data": {
      "image/png": "[encoded data removed]",
      "text/plain": [
       "<Figure size 720x432 with 1 Axes>"
      ]
     },
     "metadata": {},
     "output_type": "display_data"
    }
   ],
   "source": [
    "fig = plt.figure(figsize = (10,6))\n",
    "sns.barplot(x = 'insuranceclaim', y = 'charges', data = df)"
   ]
  },
  {
   "cell_type": "markdown",
   "metadata": {},
   "source": [
    "Higher the charges higher the chance of insurance claim"
   ]
  },
  {
   "cell_type": "markdown",
   "metadata": {},
   "source": [
    "# Label Encoding/One Hot Encoding"
   ]
  },
  {
   "cell_type": "code",
   "execution_count": 45,
   "metadata": {},
   "outputs": [
    {
     "data": {
      "text/html": [
       "<div>\n",
       "<style scoped>\n",
       "    .dataframe tbody tr th:only-of-type {\n",
       "        vertical-align: middle;\n",
       "    }\n",
       "\n",
       "    .dataframe tbody tr th {\n",
       "        vertical-align: top;\n",
       "    }\n",
       "\n",
       "    .dataframe thead th {\n",
       "        text-align: right;\n",
       "    }\n",
       "</style>\n",
       "<table border=\"1\" class=\"dataframe\">\n",
       "  <thead>\n",
       "    <tr style=\"text-align: right;\">\n",
       "      <th></th>\n",
       "      <th>age</th>\n",
       "      <th>sex</th>\n",
       "      <th>bmi</th>\n",
       "      <th>children</th>\n",
       "      <th>smoker</th>\n",
       "      <th>region</th>\n",
       "      <th>charges</th>\n",
       "      <th>insuranceclaim</th>\n",
       "    </tr>\n",
       "  </thead>\n",
       "  <tbody>\n",
       "    <tr>\n",
       "      <th>0</th>\n",
       "      <td>19</td>\n",
       "      <td>0</td>\n",
       "      <td>27.900</td>\n",
       "      <td>0</td>\n",
       "      <td>1</td>\n",
       "      <td>3</td>\n",
       "      <td>16884.92400</td>\n",
       "      <td>1</td>\n",
       "    </tr>\n",
       "    <tr>\n",
       "      <th>1</th>\n",
       "      <td>18</td>\n",
       "      <td>1</td>\n",
       "      <td>33.770</td>\n",
       "      <td>1</td>\n",
       "      <td>0</td>\n",
       "      <td>2</td>\n",
       "      <td>1725.55230</td>\n",
       "      <td>1</td>\n",
       "    </tr>\n",
       "    <tr>\n",
       "      <th>2</th>\n",
       "      <td>28</td>\n",
       "      <td>1</td>\n",
       "      <td>33.000</td>\n",
       "      <td>3</td>\n",
       "      <td>0</td>\n",
       "      <td>2</td>\n",
       "      <td>4449.46200</td>\n",
       "      <td>0</td>\n",
       "    </tr>\n",
       "    <tr>\n",
       "      <th>3</th>\n",
       "      <td>33</td>\n",
       "      <td>1</td>\n",
       "      <td>22.705</td>\n",
       "      <td>0</td>\n",
       "      <td>0</td>\n",
       "      <td>1</td>\n",
       "      <td>21984.47061</td>\n",
       "      <td>0</td>\n",
       "    </tr>\n",
       "    <tr>\n",
       "      <th>4</th>\n",
       "      <td>32</td>\n",
       "      <td>1</td>\n",
       "      <td>28.880</td>\n",
       "      <td>0</td>\n",
       "      <td>0</td>\n",
       "      <td>1</td>\n",
       "      <td>3866.85520</td>\n",
       "      <td>1</td>\n",
       "    </tr>\n",
       "  </tbody>\n",
       "</table>\n",
       "</div>"
      ],
      "text/plain": [
       "   age  sex     bmi  children  smoker  region      charges  insuranceclaim\n",
       "0   19    0  27.900         0       1       3  16884.92400               1\n",
       "1   18    1  33.770         1       0       2   1725.55230               1\n",
       "2   28    1  33.000         3       0       2   4449.46200               0\n",
       "3   33    1  22.705         0       0       1  21984.47061               0\n",
       "4   32    1  28.880         0       0       1   3866.85520               1"
      ]
     },
     "execution_count": 45,
     "metadata": {},
     "output_type": "execute_result"
    }
   ],
   "source": [
    "df.head()"
   ]
  },
  {
   "cell_type": "markdown",
   "metadata": {},
   "source": [
    "When we go through the above data ,we can observe that all the categorial variables including Target\n",
    "\n",
    "Variable are Label/One Hot Encoded.\n",
    "\n",
    "So Label Encoding and One Hot Encoding is not required in this Dataset"
   ]
  },
  {
   "cell_type": "markdown",
   "metadata": {},
   "source": [
    "# Now performing Train_Test_Split to separate target and input variables\n"
   ]
  },
  {
   "cell_type": "markdown",
   "metadata": {},
   "source": [
    "seperating the dataset as response variable and feature variabes"
   ]
  },
  {
   "cell_type": "code",
   "execution_count": 46,
   "metadata": {},
   "outputs": [],
   "source": [
    "x = df.drop('insuranceclaim', axis = 1)\n",
    "y = df['insuranceclaim']"
   ]
  },
  {
   "cell_type": "code",
   "execution_count": 47,
   "metadata": {},
   "outputs": [
    {
     "data": {
      "text/plain": [
       "(1338, 7)"
      ]
     },
     "execution_count": 47,
     "metadata": {},
     "output_type": "execute_result"
    }
   ],
   "source": [
    "x.shape"
   ]
  },
  {
   "cell_type": "code",
   "execution_count": 48,
   "metadata": {},
   "outputs": [
    {
     "data": {
      "text/plain": [
       "(1338,)"
      ]
     },
     "execution_count": 48,
     "metadata": {},
     "output_type": "execute_result"
    }
   ],
   "source": [
    "y.shape"
   ]
  },
  {
   "cell_type": "markdown",
   "metadata": {},
   "source": [
    "train test splitting of the data"
   ]
  },
  {
   "cell_type": "code",
   "execution_count": 49,
   "metadata": {},
   "outputs": [],
   "source": [
    "x_train, x_test, y_train, y_test = train_test_split(x, y, test_size = 0.25, random_state = 42)"
   ]
  },
  {
   "cell_type": "code",
   "execution_count": 51,
   "metadata": {},
   "outputs": [
    {
     "data": {
      "text/plain": [
       "(1003, 7)"
      ]
     },
     "execution_count": 51,
     "metadata": {},
     "output_type": "execute_result"
    }
   ],
   "source": [
    "x_train.shape"
   ]
  },
  {
   "cell_type": "code",
   "execution_count": 52,
   "metadata": {},
   "outputs": [
    {
     "data": {
      "text/plain": [
       "(335, 7)"
      ]
     },
     "execution_count": 52,
     "metadata": {},
     "output_type": "execute_result"
    }
   ],
   "source": [
    "x_test.shape"
   ]
  },
  {
   "cell_type": "code",
   "execution_count": 53,
   "metadata": {},
   "outputs": [
    {
     "data": {
      "text/plain": [
       "(1003,)"
      ]
     },
     "execution_count": 53,
     "metadata": {},
     "output_type": "execute_result"
    }
   ],
   "source": [
    "y_train.shape"
   ]
  },
  {
   "cell_type": "code",
   "execution_count": 54,
   "metadata": {},
   "outputs": [
    {
     "data": {
      "text/plain": [
       "(335,)"
      ]
     },
     "execution_count": 54,
     "metadata": {},
     "output_type": "execute_result"
    }
   ],
   "source": [
    "y_test.shape"
   ]
  },
  {
   "cell_type": "markdown",
   "metadata": {},
   "source": [
    "train-test-split is done"
   ]
  },
  {
   "cell_type": "markdown",
   "metadata": {},
   "source": [
    "# Applying Standardization Technique to get optimized results through Standard Scaler"
   ]
  },
  {
   "cell_type": "code",
   "execution_count": 55,
   "metadata": {},
   "outputs": [],
   "source": [
    "sc = StandardScaler()\n",
    "x_train=sc.fit_transform(x_train)\n",
    "x_test=sc.fit_transform(x_test)"
   ]
  },
  {
   "cell_type": "markdown",
   "metadata": {},
   "source": [
    "Our training and testing data is ready now to perform machine learning algorithm"
   ]
  },
  {
   "cell_type": "markdown",
   "metadata": {},
   "source": [
    "# Model Selection"
   ]
  },
  {
   "cell_type": "code",
   "execution_count": 56,
   "metadata": {},
   "outputs": [],
   "source": [
    "from sklearn.linear_model import LogisticRegression\n",
    "from sklearn.naive_bayes import GaussianNB\n",
    "from sklearn.tree import DecisionTreeClassifier\n",
    "from sklearn.svm import SVC\n",
    "from sklearn.metrics import accuracy_score"
   ]
  },
  {
   "cell_type": "code",
   "execution_count": 57,
   "metadata": {},
   "outputs": [],
   "source": [
    "model=[LogisticRegression(),GaussianNB(),SVC(),DecisionTreeClassifier(),RandomForestClassifier()]"
   ]
  },
  {
   "cell_type": "code",
   "execution_count": 58,
   "metadata": {},
   "outputs": [
    {
     "name": "stdout",
     "output_type": "stream",
     "text": [
      "0.8656716417910447\n",
      "[[114  18]\n",
      " [ 27 176]]\n",
      "              precision    recall  f1-score   support\n",
      "\n",
      "           0       0.81      0.86      0.84       132\n",
      "           1       0.91      0.87      0.89       203\n",
      "\n",
      "    accuracy                           0.87       335\n",
      "   macro avg       0.86      0.87      0.86       335\n",
      "weighted avg       0.87      0.87      0.87       335\n",
      "\n",
      "\n",
      " \n",
      "0.6686567164179105\n",
      "[[120  12]\n",
      " [ 99 104]]\n",
      "              precision    recall  f1-score   support\n",
      "\n",
      "           0       0.55      0.91      0.68       132\n",
      "           1       0.90      0.51      0.65       203\n",
      "\n",
      "    accuracy                           0.67       335\n",
      "   macro avg       0.72      0.71      0.67       335\n",
      "weighted avg       0.76      0.67      0.66       335\n",
      "\n",
      "\n",
      " \n",
      "0.8895522388059701\n",
      "[[127   5]\n",
      " [ 32 171]]\n",
      "              precision    recall  f1-score   support\n",
      "\n",
      "           0       0.80      0.96      0.87       132\n",
      "           1       0.97      0.84      0.90       203\n",
      "\n",
      "    accuracy                           0.89       335\n",
      "   macro avg       0.89      0.90      0.89       335\n",
      "weighted avg       0.90      0.89      0.89       335\n",
      "\n",
      "\n",
      " \n",
      "0.9462686567164179\n",
      "[[129   3]\n",
      " [ 15 188]]\n",
      "              precision    recall  f1-score   support\n",
      "\n",
      "           0       0.90      0.98      0.93       132\n",
      "           1       0.98      0.93      0.95       203\n",
      "\n",
      "    accuracy                           0.95       335\n",
      "   macro avg       0.94      0.95      0.94       335\n",
      "weighted avg       0.95      0.95      0.95       335\n",
      "\n",
      "\n",
      " \n",
      "0.9014925373134328\n",
      "[[125   7]\n",
      " [ 26 177]]\n",
      "              precision    recall  f1-score   support\n",
      "\n",
      "           0       0.83      0.95      0.88       132\n",
      "           1       0.96      0.87      0.91       203\n",
      "\n",
      "    accuracy                           0.90       335\n",
      "   macro avg       0.89      0.91      0.90       335\n",
      "weighted avg       0.91      0.90      0.90       335\n",
      "\n",
      "\n",
      " \n"
     ]
    }
   ],
   "source": [
    "for m in model:\n",
    "    m.fit(x_train,y_train)\n",
    "    m.score(x_train,y_train)\n",
    "    predm=m.predict(x_test)\n",
    "    print(accuracy_score(y_test,predm))\n",
    "    print(confusion_matrix(y_test,predm))\n",
    "    print(classification_report(y_test,predm))\n",
    "    print('\\n ')"
   ]
  },
  {
   "cell_type": "markdown",
   "metadata": {},
   "source": [
    "# Accuracy Scores for Training and Testing Datasets for various Models"
   ]
  },
  {
   "cell_type": "markdown",
   "metadata": {},
   "source": [
    "Accuracy Scores for various Models----\n",
    "\n",
    "Logistics Regression- 1.Training=86% 2.Testing=87%\n",
    "\n",
    "Gaussian NB--- 1.Training=66% 2.Testing=67%\n",
    "\n",
    "SVM---- 1.Training=88% 2.Testing=89%\n",
    "\n",
    "Decision Tree Classifier--1.Training=94% 2.Testing=95%\n",
    "\n",
    "Random Forest Classifier--1.Training=90.75% 2.Testing=90%"
   ]
  },
  {
   "cell_type": "markdown",
   "metadata": {},
   "source": [
    "From above scores it is clear that the best model coming out to be DecisionTreeClassifier.\n",
    "\n",
    "So we will do further processing of this model to avoid underfitting and underfitting which will\n",
    "\n",
    "eventually increase the accuracy score and f1 score."
   ]
  },
  {
   "cell_type": "markdown",
   "metadata": {},
   "source": [
    "# Cross Validation Technique to avoid Overfitting and Underfitting on Decision Tree Classifier Model"
   ]
  },
  {
   "cell_type": "code",
   "execution_count": 64,
   "metadata": {},
   "outputs": [],
   "source": [
    "dtc = DecisionTreeClassifier()\n",
    "dtc.fit(x_train, y_train)\n",
    "pred_dtc2 = dtc.predict(x_test)"
   ]
  },
  {
   "cell_type": "code",
   "execution_count": 65,
   "metadata": {},
   "outputs": [
    {
     "name": "stdout",
     "output_type": "stream",
     "text": [
      "              precision    recall  f1-score   support\n",
      "\n",
      "           0       0.89      0.98      0.93       132\n",
      "           1       0.98      0.92      0.95       203\n",
      "\n",
      "    accuracy                           0.94       335\n",
      "   macro avg       0.94      0.95      0.94       335\n",
      "weighted avg       0.95      0.94      0.94       335\n",
      "\n"
     ]
    }
   ],
   "source": [
    "print(classification_report(y_test, pred_dtc2))"
   ]
  },
  {
   "cell_type": "code",
   "execution_count": 66,
   "metadata": {},
   "outputs": [
    {
     "data": {
      "text/plain": [
       "0.9740594059405941"
      ]
     },
     "execution_count": 66,
     "metadata": {},
     "output_type": "execute_result"
    }
   ],
   "source": [
    "#Now lets try to do some evaluation for random forest model using cross validation.\n",
    "dtc_eval= cross_val_score(estimator = dtc, X = x_train, y = y_train, cv = 10)\n",
    "dtc_eval.mean()"
   ]
  },
  {
   "cell_type": "markdown",
   "metadata": {},
   "source": [
    "We can clearly see that after applying Cross validation Technique our DTC F1 score increased\n",
    "\n",
    "F1 score after cross validation is-- 97.50% "
   ]
  },
  {
   "cell_type": "markdown",
   "metadata": {},
   "source": [
    "# Storing the predicted results in csv file."
   ]
  },
  {
   "cell_type": "code",
   "execution_count": 67,
   "metadata": {},
   "outputs": [],
   "source": [
    "pred_dtc2 = pd.DataFrame(pred_dtc2, columns=['pred_dtc2']).to_csv('SBI-Life.csv')"
   ]
  },
  {
   "cell_type": "markdown",
   "metadata": {},
   "source": [
    "# Saving the best Model as a pickle in a file"
   ]
  },
  {
   "cell_type": "markdown",
   "metadata": {},
   "source": [
    "I have selected Decision Classifier Model as best model as it is giving me best accuracy score\n",
    "\n",
    "after performing overfitting and underfitting through Cross Validation technique"
   ]
  },
  {
   "cell_type": "code",
   "execution_count": 69,
   "metadata": {},
   "outputs": [],
   "source": [
    "from sklearn.externals import joblib"
   ]
  },
  {
   "cell_type": "code",
   "execution_count": 71,
   "metadata": {},
   "outputs": [
    {
     "data": {
      "text/plain": [
       "['SBI-Life.pkl']"
      ]
     },
     "execution_count": 71,
     "metadata": {},
     "output_type": "execute_result"
    }
   ],
   "source": [
    "joblib.dump(dtc,'SBI-Life.pkl')"
   ]
  },
  {
   "cell_type": "code",
   "execution_count": null,
   "metadata": {},
   "outputs": [],
   "source": []
  }
 ],
 "metadata": {
  "kernelspec": {
   "display_name": "Python 3",
   "language": "python",
   "name": "python3"
  },
  "language_info": {
   "codemirror_mode": {
    "name": "ipython",
    "version": 3
   },
   "file_extension": ".py",
   "mimetype": "text/x-python",
   "name": "python",
   "nbconvert_exporter": "python",
   "pygments_lexer": "ipython3",
   "version": "3.7.3"
  }
 },
 "nbformat": 4,
 "nbformat_minor": 2
}
